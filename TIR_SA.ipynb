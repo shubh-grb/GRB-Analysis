{
 "cells": [
  {
   "cell_type": "code",
   "execution_count": 1,
   "id": "5d292f8e",
   "metadata": {},
   "outputs": [],
   "source": [
    "import warnings\n",
    "\n",
    "warnings.simplefilter(\"ignore\")"
   ]
  },
  {
   "cell_type": "code",
   "execution_count": 2,
   "id": "ca9fa6f8",
   "metadata": {},
   "outputs": [
    {
     "name": "stderr",
     "output_type": "stream",
     "text": [
      "\n",
      "WARNING: version mismatch between CFITSIO header (v3.47) and linked library (v3.46).\n",
      "\n"
     ]
    }
   ],
   "source": [
    "%%capture\n",
    "import matplotlib.pyplot as plt\n",
    "import numpy as np\n",
    "\n",
    "np.seterr(all=\"ignore\")\n",
    "\n",
    "import os\n",
    "from threeML import *\n",
    "from threeML.io.package_data import get_path_of_data_file\n",
    "from astropy.io import fits\n",
    "from astromodels import *"
   ]
  },
  {
   "cell_type": "code",
   "execution_count": 3,
   "id": "a0e75559",
   "metadata": {},
   "outputs": [
    {
     "data": {
      "text/plain": [
       "'/home/shubh_1/GRB130715906'"
      ]
     },
     "execution_count": 3,
     "metadata": {},
     "output_type": "execute_result"
    }
   ],
   "source": [
    "os.getcwd()"
   ]
  },
  {
   "cell_type": "code",
   "execution_count": 4,
   "id": "e56a9eb0",
   "metadata": {},
   "outputs": [],
   "source": [
    "os.chdir('current/spectral_analysis')"
   ]
  },
  {
   "cell_type": "code",
   "execution_count": 5,
   "id": "3a1a5b84",
   "metadata": {},
   "outputs": [],
   "source": [
    "from jupyterthemes import jtplot\n",
    "\n",
    "%matplotlib inline\n",
    "jtplot.style(context=\"talk\", fscale=1, ticks=True, grid=False)\n",
    "\n",
    "silence_warnings()\n",
    "\n",
    "set_threeML_style()\n",
    "plt.rcParams.update({\n",
    "    \"text.usetex\": False,\n",
    "    \"font.family\": 'Helvetica'\n",
    "})"
   ]
  },
  {
   "cell_type": "code",
   "execution_count": 6,
   "id": "c660587c",
   "metadata": {},
   "outputs": [],
   "source": [
    "def ogip_like():\n",
    "\n",
    "    \"\"\"\n",
    "    Creates OGIPLike objects for the given list of detectors and sets active measurements.\n",
    "\n",
    "    Parameters:\n",
    "    detectors (list of dict): A list of dictionaries, each containing the detector name (e.g. 'n3', 'b0') and the active energy range.\n",
    "    k (int): The index to be used in file paths.\n",
    "\n",
    "    Returns:\n",
    "    tuple: A tuple containing the created OGIPLike objects.\n",
    "    \"\"\"\n",
    "    detectors = [\n",
    "    {\"name\": \"n9\", \"range1\": \"8-30\", \"range2\": \"40-900\"},\n",
    "    {\"name\": \"na\", \"range1\": \"8-30\", \"range2\": \"40-900\"},\n",
    "    {\"name\": \"nb\", \"range1\": \"8-30\", \"range2\": \"40-900\"},\n",
    "#     {\"name\": \"b1\", \"range1\": \"250-30000\", \"range2\": \"250-30000\"},\n",
    "    ]\n",
    "    ogip_objects = []\n",
    "\n",
    "    for detector in detectors:\n",
    "        name = detector[\"name\"]\n",
    "        range1 = detector[\"range1\"]\n",
    "        range2 = detector[\"range2\"]\n",
    "        ogip = OGIPLike(\n",
    "            name,\n",
    "            f\"int_{name}_spectraFile.pha\",\n",
    "            f\"int_{name}_spectraFile_bak.pha\",\n",
    "            f\"int_{name}_spectraFile.rsp\",\n",
    "            spectrum_number=1,\n",
    "        )\n",
    "        ogip.set_active_measurements(range1, range2)\n",
    "        ogip_objects.append(ogip)\n",
    "\n",
    "    return tuple(ogip_objects)\n"
   ]
  },
  {
   "cell_type": "code",
   "execution_count": null,
   "id": "206042fb",
   "metadata": {},
   "outputs": [],
   "source": [
    "# Example usage:\n",
    "\n",
    "trigger_time=395617452.641644\n",
    "ra=287.0\n",
    "dec=31.0\n",
    "\n",
    "def save_results_babb(k):\n",
    "    results = jl_eac_babb.results\n",
    "    results.write_to(f\"babb_int_results/int_babb.fits\", overwrite = True)\n",
    "    threeML_config.point_source.integrate_flux_method = \"trapz\"\n",
    "#     flux = []\n",
    "#     flux.insert(k-1, results.get_flux(ene_min=1 * u.keV, ene_max=11000 * u.MeV, use_components=True, flux_unit=\"erg/cm2/s\"))\n",
    "# #     flux.append(results.get_flux(ene_min=1 * u.keV, ene_max=11000 * u.MeV, use_components=True, flux_unit=\"erg/cm2/s\"))\n",
    "#     return flux\n",
    "    return results\n",
    "\n",
    "def save_results_band(k):\n",
    "    results = jl_eac_band.results\n",
    "    results.write_to(f\"band_int_results/int_band.fits\", overwrite = True)\n",
    "    threeML_config.point_source.integrate_flux_method = \"trapz\"\n",
    "#     flux = []\n",
    "#     flux.insert(k-1, results.get_flux(ene_min=1 * u.keV, ene_max=11000 * u.MeV, use_components=True, flux_unit=\"erg/cm2/s\"))\n",
    "# #     flux.append(results.get_flux(ene_min=1 * u.keV, ene_max=11000 * u.MeV, use_components=True, flux_unit=\"erg/cm2/s\"))\n",
    "#     return flux\n",
    "    return results"
   ]
  },
  {
   "cell_type": "markdown",
   "id": "e8c16d6f",
   "metadata": {},
   "source": [
    "# Time INTEGRATED ANALYSIS"
   ]
  },
  {
   "cell_type": "code",
   "execution_count": 28,
   "id": "9028fa7a",
   "metadata": {
    "scrolled": true
   },
   "outputs": [
    {
     "data": {
      "text/html": [
       "<pre style=\"white-space:pre;overflow-x:auto;line-height:normal;font-family:Menlo,'DejaVu Sans Mono',consolas,'Courier New',monospace\"><span style=\"color: #00ff00; text-decoration-color: #00ff00\">19:13:54 </span><span style=\"color: #af5fd7; text-decoration-color: #af5fd7\">WARNING </span> <span style=\"color: #c6c6c6; text-decoration-color: #c6c6c6; font-weight: bold\"> The default choice for MATRIX extension failed:</span><span style=\"color: #800080; text-decoration-color: #800080; font-weight: bold\">KeyError</span><span style=\"color: #c6c6c6; text-decoration-color: #c6c6c6; font-weight: bold\">(</span><span style=\"color: #5f5f5f; text-decoration-color: #5f5f5f; font-weight: bold\">\"Extension ('MATRIX', 6)</span><span style=\"color: #c6c6c6; text-decoration-color: #c6c6c6; font-weight: bold\"> </span><a href=\"file:///opt/Miniconda3/envs/threeML/lib/python3.7/site-packages/threeML/utils/OGIP/response.py\" target=\"_blank\"><span style=\"color: #7f7f7f; text-decoration-color: #7f7f7f\">response.py</span></a><span style=\"color: #7f7f7f; text-decoration-color: #7f7f7f\">:</span><a href=\"file:///opt/Miniconda3/envs/threeML/lib/python3.7/site-packages/threeML/utils/OGIP/response.py#461\" target=\"_blank\"><span style=\"color: #7f7f7f; text-decoration-color: #7f7f7f\">461</span></a>\n",
       "<span style=\"color: #00ff00; text-decoration-color: #00ff00\">         </span>         <span style=\"color: #5f5f5f; text-decoration-color: #5f5f5f; font-weight: bold\">not found.\"</span><span style=\"color: #c6c6c6; text-decoration-color: #c6c6c6; font-weight: bold\">)available: </span><span style=\"color: #800080; text-decoration-color: #800080; font-weight: bold; font-style: italic\">None</span><span style=\"color: #c6c6c6; text-decoration-color: #c6c6c6; font-weight: bold\"> </span><span style=\"color: #5f5f5f; text-decoration-color: #5f5f5f; font-weight: bold\">'EBOUNDS'</span><span style=\"color: #c6c6c6; text-decoration-color: #c6c6c6; font-weight: bold\"> </span><span style=\"color: #5f5f5f; text-decoration-color: #5f5f5f; font-weight: bold\">'SPECRESP MATRIX'</span><span style=\"color: #c6c6c6; text-decoration-color: #c6c6c6; font-weight: bold\"> </span><span style=\"color: #5f5f5f; text-decoration-color: #5f5f5f; font-weight: bold\">'SPECRESP MATRIX'</span><span style=\"color: #c6c6c6; text-decoration-color: #c6c6c6; font-weight: bold\">         </span><span style=\"color: #7f7f7f; text-decoration-color: #7f7f7f\">               </span>\n",
       "<span style=\"color: #00ff00; text-decoration-color: #00ff00\">         </span>         <span style=\"color: #5f5f5f; text-decoration-color: #5f5f5f; font-weight: bold\">'SPECRESP MATRIX'</span><span style=\"color: #c6c6c6; text-decoration-color: #c6c6c6; font-weight: bold\"> </span><span style=\"color: #5f5f5f; text-decoration-color: #5f5f5f; font-weight: bold\">'SPECRESP MATRIX'</span><span style=\"color: #c6c6c6; text-decoration-color: #c6c6c6; font-weight: bold\"> </span><span style=\"color: #5f5f5f; text-decoration-color: #5f5f5f; font-weight: bold\">'SPECRESP MATRIX'</span><span style=\"color: #c6c6c6; text-decoration-color: #c6c6c6; font-weight: bold\"> </span><span style=\"color: #5f5f5f; text-decoration-color: #5f5f5f; font-weight: bold\">'SPECRESP MATRIX'</span><span style=\"color: #c6c6c6; text-decoration-color: #c6c6c6; font-weight: bold\"> </span><span style=\"color: #5f5f5f; text-decoration-color: #5f5f5f; font-weight: bold\">'SPECRESP</span><span style=\"color: #c6c6c6; text-decoration-color: #c6c6c6; font-weight: bold\"> </span><span style=\"color: #7f7f7f; text-decoration-color: #7f7f7f\">               </span>\n",
       "<span style=\"color: #00ff00; text-decoration-color: #00ff00\">         </span>         <span style=\"color: #5f5f5f; text-decoration-color: #5f5f5f; font-weight: bold\">MATRIX'</span><span style=\"color: #c6c6c6; text-decoration-color: #c6c6c6; font-weight: bold\"> </span><span style=\"color: #5f5f5f; text-decoration-color: #5f5f5f; font-weight: bold\">'SPECRESP MATRIX'</span><span style=\"color: #c6c6c6; text-decoration-color: #c6c6c6; font-weight: bold\"> </span><span style=\"color: #5f5f5f; text-decoration-color: #5f5f5f; font-weight: bold\">'SPECRESP MATRIX'</span><span style=\"color: #c6c6c6; text-decoration-color: #c6c6c6; font-weight: bold\"> </span><span style=\"color: #5f5f5f; text-decoration-color: #5f5f5f; font-weight: bold\">'SPECRESP MATRIX'</span><span style=\"color: #c6c6c6; text-decoration-color: #c6c6c6; font-weight: bold\">                     </span><span style=\"color: #7f7f7f; text-decoration-color: #7f7f7f\">               </span>\n",
       "</pre>\n"
      ],
      "text/plain": [
       "\u001b[38;5;46m19:13:54\u001b[0m\u001b[38;5;46m \u001b[0m\u001b[38;5;134mWARNING \u001b[0m \u001b[1;38;5;251m The default choice for MATRIX extension failed:\u001b[0m\u001b[1;35mKeyError\u001b[0m\u001b[1;38;5;251m(\u001b[0m\u001b[1;38;5;59m\"Extension \u001b[0m\u001b[1;38;5;59m(\u001b[0m\u001b[1;38;5;59m'MATRIX', 6\u001b[0m\u001b[1;38;5;59m)\u001b[0m\u001b[1;38;5;251m \u001b[0m\u001b]8;id=136904;file:///opt/Miniconda3/envs/threeML/lib/python3.7/site-packages/threeML/utils/OGIP/response.py\u001b\\\u001b[2mresponse.py\u001b[0m\u001b]8;;\u001b\\\u001b[2m:\u001b[0m\u001b]8;id=774347;file:///opt/Miniconda3/envs/threeML/lib/python3.7/site-packages/threeML/utils/OGIP/response.py#461\u001b\\\u001b[2m461\u001b[0m\u001b]8;;\u001b\\\n",
       "\u001b[38;5;46m         \u001b[0m         \u001b[1;38;5;59mnot found.\"\u001b[0m\u001b[1;38;5;251m)\u001b[0m\u001b[1;38;5;251mavailable: \u001b[0m\u001b[1;3;35mNone\u001b[0m\u001b[1;38;5;251m \u001b[0m\u001b[1;38;5;59m'EBOUNDS'\u001b[0m\u001b[1;38;5;251m \u001b[0m\u001b[1;38;5;59m'SPECRESP MATRIX'\u001b[0m\u001b[1;38;5;251m \u001b[0m\u001b[1;38;5;59m'SPECRESP MATRIX'\u001b[0m\u001b[1;38;5;251m        \u001b[0m\u001b[1;38;5;251m \u001b[0m\u001b[2m               \u001b[0m\n",
       "\u001b[38;5;46m         \u001b[0m         \u001b[1;38;5;59m'SPECRESP MATRIX'\u001b[0m\u001b[1;38;5;251m \u001b[0m\u001b[1;38;5;59m'SPECRESP MATRIX'\u001b[0m\u001b[1;38;5;251m \u001b[0m\u001b[1;38;5;59m'SPECRESP MATRIX'\u001b[0m\u001b[1;38;5;251m \u001b[0m\u001b[1;38;5;59m'SPECRESP MATRIX'\u001b[0m\u001b[1;38;5;251m \u001b[0m\u001b[1;38;5;59m'SPECRESP\u001b[0m\u001b[1;38;5;251m \u001b[0m\u001b[2m               \u001b[0m\n",
       "\u001b[38;5;46m         \u001b[0m         \u001b[1;38;5;59mMATRIX'\u001b[0m\u001b[1;38;5;251m \u001b[0m\u001b[1;38;5;59m'SPECRESP MATRIX'\u001b[0m\u001b[1;38;5;251m \u001b[0m\u001b[1;38;5;59m'SPECRESP MATRIX'\u001b[0m\u001b[1;38;5;251m \u001b[0m\u001b[1;38;5;59m'SPECRESP MATRIX'\u001b[0m\u001b[1;38;5;251m                    \u001b[0m\u001b[1;38;5;251m \u001b[0m\u001b[2m               \u001b[0m\n"
      ]
     },
     "metadata": {},
     "output_type": "display_data"
    },
    {
     "data": {
      "text/html": [
       "<pre style=\"white-space:pre;overflow-x:auto;line-height:normal;font-family:Menlo,'DejaVu Sans Mono',consolas,'Courier New',monospace\"><span style=\"color: #00ff00; text-decoration-color: #00ff00\">         </span><span style=\"color: #af5fd7; text-decoration-color: #af5fd7\">WARNING </span> <span style=\"color: #c6c6c6; text-decoration-color: #c6c6c6; font-weight: bold\"> Minimum MC energy (</span><span style=\"color: #c0c0c0; text-decoration-color: #c0c0c0; font-weight: bold\">5.0</span><span style=\"color: #c6c6c6; text-decoration-color: #c6c6c6; font-weight: bold\">) is larger than minimum EBOUNDS energy                    </span><a href=\"file:///opt/Miniconda3/envs/threeML/lib/python3.7/site-packages/threeML/utils/OGIP/response.py\" target=\"_blank\"><span style=\"color: #7f7f7f; text-decoration-color: #7f7f7f\">response.py</span></a><span style=\"color: #7f7f7f; text-decoration-color: #7f7f7f\">:</span><a href=\"file:///opt/Miniconda3/envs/threeML/lib/python3.7/site-packages/threeML/utils/OGIP/response.py#139\" target=\"_blank\"><span style=\"color: #7f7f7f; text-decoration-color: #7f7f7f\">139</span></a>\n",
       "<span style=\"color: #00ff00; text-decoration-color: #00ff00\">         </span>         <span style=\"color: #c6c6c6; text-decoration-color: #c6c6c6; font-weight: bold\">(</span><span style=\"color: #c0c0c0; text-decoration-color: #c0c0c0; font-weight: bold\">4.4079999923706055</span><span style=\"color: #c6c6c6; text-decoration-color: #c6c6c6; font-weight: bold\">)                                                              </span><span style=\"color: #7f7f7f; text-decoration-color: #7f7f7f\">               </span>\n",
       "</pre>\n"
      ],
      "text/plain": [
       "\u001b[38;5;46m        \u001b[0m\u001b[38;5;46m \u001b[0m\u001b[38;5;134mWARNING \u001b[0m \u001b[1;38;5;251m Minimum MC energy \u001b[0m\u001b[1;38;5;251m(\u001b[0m\u001b[1;37m5.0\u001b[0m\u001b[1;38;5;251m)\u001b[0m\u001b[1;38;5;251m is larger than minimum EBOUNDS energy                   \u001b[0m\u001b[1;38;5;251m \u001b[0m\u001b]8;id=40692;file:///opt/Miniconda3/envs/threeML/lib/python3.7/site-packages/threeML/utils/OGIP/response.py\u001b\\\u001b[2mresponse.py\u001b[0m\u001b]8;;\u001b\\\u001b[2m:\u001b[0m\u001b]8;id=372934;file:///opt/Miniconda3/envs/threeML/lib/python3.7/site-packages/threeML/utils/OGIP/response.py#139\u001b\\\u001b[2m139\u001b[0m\u001b]8;;\u001b\\\n",
       "\u001b[38;5;46m         \u001b[0m         \u001b[1;38;5;251m(\u001b[0m\u001b[1;37m4.4079999923706055\u001b[0m\u001b[1;38;5;251m)\u001b[0m\u001b[1;38;5;251m                                                             \u001b[0m\u001b[1;38;5;251m \u001b[0m\u001b[2m               \u001b[0m\n"
      ]
     },
     "metadata": {},
     "output_type": "display_data"
    },
    {
     "data": {
      "text/html": [
       "<pre style=\"white-space:pre;overflow-x:auto;line-height:normal;font-family:Menlo,'DejaVu Sans Mono',consolas,'Courier New',monospace\"><span style=\"color: #00ff00; text-decoration-color: #00ff00\">         </span><span style=\"color: #00ffaf; text-decoration-color: #00ffaf\">INFO    </span> <span style=\"color: #c6c6c6; text-decoration-color: #c6c6c6; font-weight: bold\"> Auto-probed noise models:                                                    </span><a href=\"file:///opt/Miniconda3/envs/threeML/lib/python3.7/site-packages/threeML/plugins/SpectrumLike.py\" target=\"_blank\"><span style=\"color: #7f7f7f; text-decoration-color: #7f7f7f\">SpectrumLike.py</span></a><span style=\"color: #7f7f7f; text-decoration-color: #7f7f7f\">:</span><a href=\"file:///opt/Miniconda3/envs/threeML/lib/python3.7/site-packages/threeML/plugins/SpectrumLike.py#491\" target=\"_blank\"><span style=\"color: #7f7f7f; text-decoration-color: #7f7f7f\">491</span></a>\n",
       "</pre>\n"
      ],
      "text/plain": [
       "\u001b[38;5;46m        \u001b[0m\u001b[38;5;46m \u001b[0m\u001b[38;5;49mINFO    \u001b[0m \u001b[1;38;5;251m Auto-probed noise models:                                                   \u001b[0m\u001b[1;38;5;251m \u001b[0m\u001b]8;id=568232;file:///opt/Miniconda3/envs/threeML/lib/python3.7/site-packages/threeML/plugins/SpectrumLike.py\u001b\\\u001b[2mSpectrumLike.py\u001b[0m\u001b]8;;\u001b\\\u001b[2m:\u001b[0m\u001b]8;id=551651;file:///opt/Miniconda3/envs/threeML/lib/python3.7/site-packages/threeML/plugins/SpectrumLike.py#491\u001b\\\u001b[2m491\u001b[0m\u001b]8;;\u001b\\\n"
      ]
     },
     "metadata": {},
     "output_type": "display_data"
    },
    {
     "data": {
      "text/html": [
       "<pre style=\"white-space:pre;overflow-x:auto;line-height:normal;font-family:Menlo,'DejaVu Sans Mono',consolas,'Courier New',monospace\"><span style=\"color: #00ff00; text-decoration-color: #00ff00\">         </span><span style=\"color: #00ffaf; text-decoration-color: #00ffaf\">INFO    </span> <span style=\"color: #c6c6c6; text-decoration-color: #c6c6c6; font-weight: bold\"> - observation: poisson                                                       </span><a href=\"file:///opt/Miniconda3/envs/threeML/lib/python3.7/site-packages/threeML/plugins/SpectrumLike.py\" target=\"_blank\"><span style=\"color: #7f7f7f; text-decoration-color: #7f7f7f\">SpectrumLike.py</span></a><span style=\"color: #7f7f7f; text-decoration-color: #7f7f7f\">:</span><a href=\"file:///opt/Miniconda3/envs/threeML/lib/python3.7/site-packages/threeML/plugins/SpectrumLike.py#492\" target=\"_blank\"><span style=\"color: #7f7f7f; text-decoration-color: #7f7f7f\">492</span></a>\n",
       "</pre>\n"
      ],
      "text/plain": [
       "\u001b[38;5;46m        \u001b[0m\u001b[38;5;46m \u001b[0m\u001b[38;5;49mINFO    \u001b[0m \u001b[1;38;5;251m - observation: poisson                                                      \u001b[0m\u001b[1;38;5;251m \u001b[0m\u001b]8;id=366429;file:///opt/Miniconda3/envs/threeML/lib/python3.7/site-packages/threeML/plugins/SpectrumLike.py\u001b\\\u001b[2mSpectrumLike.py\u001b[0m\u001b]8;;\u001b\\\u001b[2m:\u001b[0m\u001b]8;id=341408;file:///opt/Miniconda3/envs/threeML/lib/python3.7/site-packages/threeML/plugins/SpectrumLike.py#492\u001b\\\u001b[2m492\u001b[0m\u001b]8;;\u001b\\\n"
      ]
     },
     "metadata": {},
     "output_type": "display_data"
    },
    {
     "data": {
      "text/html": [
       "<pre style=\"white-space:pre;overflow-x:auto;line-height:normal;font-family:Menlo,'DejaVu Sans Mono',consolas,'Courier New',monospace\"><span style=\"color: #00ff00; text-decoration-color: #00ff00\">         </span><span style=\"color: #00ffaf; text-decoration-color: #00ffaf\">INFO    </span> <span style=\"color: #c6c6c6; text-decoration-color: #c6c6c6; font-weight: bold\"> - background: gaussian                                                       </span><a href=\"file:///opt/Miniconda3/envs/threeML/lib/python3.7/site-packages/threeML/plugins/SpectrumLike.py\" target=\"_blank\"><span style=\"color: #7f7f7f; text-decoration-color: #7f7f7f\">SpectrumLike.py</span></a><span style=\"color: #7f7f7f; text-decoration-color: #7f7f7f\">:</span><a href=\"file:///opt/Miniconda3/envs/threeML/lib/python3.7/site-packages/threeML/plugins/SpectrumLike.py#493\" target=\"_blank\"><span style=\"color: #7f7f7f; text-decoration-color: #7f7f7f\">493</span></a>\n",
       "</pre>\n"
      ],
      "text/plain": [
       "\u001b[38;5;46m        \u001b[0m\u001b[38;5;46m \u001b[0m\u001b[38;5;49mINFO    \u001b[0m \u001b[1;38;5;251m - background: gaussian                                                      \u001b[0m\u001b[1;38;5;251m \u001b[0m\u001b]8;id=340230;file:///opt/Miniconda3/envs/threeML/lib/python3.7/site-packages/threeML/plugins/SpectrumLike.py\u001b\\\u001b[2mSpectrumLike.py\u001b[0m\u001b]8;;\u001b\\\u001b[2m:\u001b[0m\u001b]8;id=858928;file:///opt/Miniconda3/envs/threeML/lib/python3.7/site-packages/threeML/plugins/SpectrumLike.py#493\u001b\\\u001b[2m493\u001b[0m\u001b]8;;\u001b\\\n"
      ]
     },
     "metadata": {},
     "output_type": "display_data"
    },
    {
     "data": {
      "text/html": [
       "<pre style=\"white-space:pre;overflow-x:auto;line-height:normal;font-family:Menlo,'DejaVu Sans Mono',consolas,'Courier New',monospace\"><span style=\"color: #00ff00; text-decoration-color: #00ff00\">         </span><span style=\"color: #00ffaf; text-decoration-color: #00ffaf\">INFO    </span> <span style=\"color: #c6c6c6; text-decoration-color: #c6c6c6; font-weight: bold\"> Range </span><span style=\"color: #c0c0c0; text-decoration-color: #c0c0c0; font-weight: bold\">8</span><span style=\"color: #c6c6c6; text-decoration-color: #c6c6c6; font-weight: bold\">-</span><span style=\"color: #c0c0c0; text-decoration-color: #c0c0c0; font-weight: bold\">30</span><span style=\"color: #c6c6c6; text-decoration-color: #c6c6c6; font-weight: bold\"> translates to channels </span><span style=\"color: #c0c0c0; text-decoration-color: #c0c0c0; font-weight: bold\">3</span><span style=\"color: #c6c6c6; text-decoration-color: #c6c6c6; font-weight: bold\">-</span><span style=\"color: #c0c0c0; text-decoration-color: #c0c0c0; font-weight: bold\">21</span><span style=\"color: #c6c6c6; text-decoration-color: #c6c6c6; font-weight: bold\">                                      </span><a href=\"file:///opt/Miniconda3/envs/threeML/lib/python3.7/site-packages/threeML/plugins/SpectrumLike.py\" target=\"_blank\"><span style=\"color: #7f7f7f; text-decoration-color: #7f7f7f\">SpectrumLike.py</span></a><span style=\"color: #7f7f7f; text-decoration-color: #7f7f7f\">:</span><a href=\"file:///opt/Miniconda3/envs/threeML/lib/python3.7/site-packages/threeML/plugins/SpectrumLike.py#1245\" target=\"_blank\"><span style=\"color: #7f7f7f; text-decoration-color: #7f7f7f\">1245</span></a>\n",
       "</pre>\n"
      ],
      "text/plain": [
       "\u001b[38;5;46m        \u001b[0m\u001b[38;5;46m \u001b[0m\u001b[38;5;49mINFO    \u001b[0m \u001b[1;38;5;251m Range \u001b[0m\u001b[1;37m8\u001b[0m\u001b[1;38;5;251m-\u001b[0m\u001b[1;37m30\u001b[0m\u001b[1;38;5;251m translates to channels \u001b[0m\u001b[1;37m3\u001b[0m\u001b[1;38;5;251m-\u001b[0m\u001b[1;37m21\u001b[0m\u001b[1;38;5;251m                                     \u001b[0m\u001b[1;38;5;251m \u001b[0m\u001b]8;id=905842;file:///opt/Miniconda3/envs/threeML/lib/python3.7/site-packages/threeML/plugins/SpectrumLike.py\u001b\\\u001b[2mSpectrumLike.py\u001b[0m\u001b]8;;\u001b\\\u001b[2m:\u001b[0m\u001b]8;id=413745;file:///opt/Miniconda3/envs/threeML/lib/python3.7/site-packages/threeML/plugins/SpectrumLike.py#1245\u001b\\\u001b[2m1245\u001b[0m\u001b]8;;\u001b\\\n"
      ]
     },
     "metadata": {},
     "output_type": "display_data"
    },
    {
     "data": {
      "text/html": [
       "<pre style=\"white-space:pre;overflow-x:auto;line-height:normal;font-family:Menlo,'DejaVu Sans Mono',consolas,'Courier New',monospace\"><span style=\"color: #00ff00; text-decoration-color: #00ff00\">         </span><span style=\"color: #00ffaf; text-decoration-color: #00ffaf\">INFO    </span> <span style=\"color: #c6c6c6; text-decoration-color: #c6c6c6; font-weight: bold\"> Range </span><span style=\"color: #c0c0c0; text-decoration-color: #c0c0c0; font-weight: bold\">40</span><span style=\"color: #c6c6c6; text-decoration-color: #c6c6c6; font-weight: bold\">-</span><span style=\"color: #c0c0c0; text-decoration-color: #c0c0c0; font-weight: bold\">900</span><span style=\"color: #c6c6c6; text-decoration-color: #c6c6c6; font-weight: bold\"> translates to channels </span><span style=\"color: #c0c0c0; text-decoration-color: #c0c0c0; font-weight: bold\">27</span><span style=\"color: #c6c6c6; text-decoration-color: #c6c6c6; font-weight: bold\">-</span><span style=\"color: #c0c0c0; text-decoration-color: #c0c0c0; font-weight: bold\">124</span><span style=\"color: #c6c6c6; text-decoration-color: #c6c6c6; font-weight: bold\">                                  </span><a href=\"file:///opt/Miniconda3/envs/threeML/lib/python3.7/site-packages/threeML/plugins/SpectrumLike.py\" target=\"_blank\"><span style=\"color: #7f7f7f; text-decoration-color: #7f7f7f\">SpectrumLike.py</span></a><span style=\"color: #7f7f7f; text-decoration-color: #7f7f7f\">:</span><a href=\"file:///opt/Miniconda3/envs/threeML/lib/python3.7/site-packages/threeML/plugins/SpectrumLike.py#1245\" target=\"_blank\"><span style=\"color: #7f7f7f; text-decoration-color: #7f7f7f\">1245</span></a>\n",
       "</pre>\n"
      ],
      "text/plain": [
       "\u001b[38;5;46m        \u001b[0m\u001b[38;5;46m \u001b[0m\u001b[38;5;49mINFO    \u001b[0m \u001b[1;38;5;251m Range \u001b[0m\u001b[1;37m40\u001b[0m\u001b[1;38;5;251m-\u001b[0m\u001b[1;37m900\u001b[0m\u001b[1;38;5;251m translates to channels \u001b[0m\u001b[1;37m27\u001b[0m\u001b[1;38;5;251m-\u001b[0m\u001b[1;37m124\u001b[0m\u001b[1;38;5;251m                                 \u001b[0m\u001b[1;38;5;251m \u001b[0m\u001b]8;id=772361;file:///opt/Miniconda3/envs/threeML/lib/python3.7/site-packages/threeML/plugins/SpectrumLike.py\u001b\\\u001b[2mSpectrumLike.py\u001b[0m\u001b]8;;\u001b\\\u001b[2m:\u001b[0m\u001b]8;id=361534;file:///opt/Miniconda3/envs/threeML/lib/python3.7/site-packages/threeML/plugins/SpectrumLike.py#1245\u001b\\\u001b[2m1245\u001b[0m\u001b]8;;\u001b\\\n"
      ]
     },
     "metadata": {},
     "output_type": "display_data"
    },
    {
     "data": {
      "text/html": [
       "<pre style=\"white-space:pre;overflow-x:auto;line-height:normal;font-family:Menlo,'DejaVu Sans Mono',consolas,'Courier New',monospace\"><span style=\"color: #00ff00; text-decoration-color: #00ff00\">         </span><span style=\"color: #af5fd7; text-decoration-color: #af5fd7\">WARNING </span> <span style=\"color: #c6c6c6; text-decoration-color: #c6c6c6; font-weight: bold\"> The default choice for MATRIX extension failed:</span><span style=\"color: #800080; text-decoration-color: #800080; font-weight: bold\">KeyError</span><span style=\"color: #c6c6c6; text-decoration-color: #c6c6c6; font-weight: bold\">(</span><span style=\"color: #5f5f5f; text-decoration-color: #5f5f5f; font-weight: bold\">\"Extension ('MATRIX', 6)</span><span style=\"color: #c6c6c6; text-decoration-color: #c6c6c6; font-weight: bold\"> </span><a href=\"file:///opt/Miniconda3/envs/threeML/lib/python3.7/site-packages/threeML/utils/OGIP/response.py\" target=\"_blank\"><span style=\"color: #7f7f7f; text-decoration-color: #7f7f7f\">response.py</span></a><span style=\"color: #7f7f7f; text-decoration-color: #7f7f7f\">:</span><a href=\"file:///opt/Miniconda3/envs/threeML/lib/python3.7/site-packages/threeML/utils/OGIP/response.py#461\" target=\"_blank\"><span style=\"color: #7f7f7f; text-decoration-color: #7f7f7f\">461</span></a>\n",
       "<span style=\"color: #00ff00; text-decoration-color: #00ff00\">         </span>         <span style=\"color: #5f5f5f; text-decoration-color: #5f5f5f; font-weight: bold\">not found.\"</span><span style=\"color: #c6c6c6; text-decoration-color: #c6c6c6; font-weight: bold\">)available: </span><span style=\"color: #800080; text-decoration-color: #800080; font-weight: bold; font-style: italic\">None</span><span style=\"color: #c6c6c6; text-decoration-color: #c6c6c6; font-weight: bold\"> </span><span style=\"color: #5f5f5f; text-decoration-color: #5f5f5f; font-weight: bold\">'EBOUNDS'</span><span style=\"color: #c6c6c6; text-decoration-color: #c6c6c6; font-weight: bold\"> </span><span style=\"color: #5f5f5f; text-decoration-color: #5f5f5f; font-weight: bold\">'SPECRESP MATRIX'</span><span style=\"color: #c6c6c6; text-decoration-color: #c6c6c6; font-weight: bold\"> </span><span style=\"color: #5f5f5f; text-decoration-color: #5f5f5f; font-weight: bold\">'SPECRESP MATRIX'</span><span style=\"color: #c6c6c6; text-decoration-color: #c6c6c6; font-weight: bold\">         </span><span style=\"color: #7f7f7f; text-decoration-color: #7f7f7f\">               </span>\n",
       "<span style=\"color: #00ff00; text-decoration-color: #00ff00\">         </span>         <span style=\"color: #5f5f5f; text-decoration-color: #5f5f5f; font-weight: bold\">'SPECRESP MATRIX'</span><span style=\"color: #c6c6c6; text-decoration-color: #c6c6c6; font-weight: bold\"> </span><span style=\"color: #5f5f5f; text-decoration-color: #5f5f5f; font-weight: bold\">'SPECRESP MATRIX'</span><span style=\"color: #c6c6c6; text-decoration-color: #c6c6c6; font-weight: bold\"> </span><span style=\"color: #5f5f5f; text-decoration-color: #5f5f5f; font-weight: bold\">'SPECRESP MATRIX'</span><span style=\"color: #c6c6c6; text-decoration-color: #c6c6c6; font-weight: bold\"> </span><span style=\"color: #5f5f5f; text-decoration-color: #5f5f5f; font-weight: bold\">'SPECRESP MATRIX'</span><span style=\"color: #c6c6c6; text-decoration-color: #c6c6c6; font-weight: bold\"> </span><span style=\"color: #5f5f5f; text-decoration-color: #5f5f5f; font-weight: bold\">'SPECRESP</span><span style=\"color: #c6c6c6; text-decoration-color: #c6c6c6; font-weight: bold\"> </span><span style=\"color: #7f7f7f; text-decoration-color: #7f7f7f\">               </span>\n",
       "<span style=\"color: #00ff00; text-decoration-color: #00ff00\">         </span>         <span style=\"color: #5f5f5f; text-decoration-color: #5f5f5f; font-weight: bold\">MATRIX'</span><span style=\"color: #c6c6c6; text-decoration-color: #c6c6c6; font-weight: bold\"> </span><span style=\"color: #5f5f5f; text-decoration-color: #5f5f5f; font-weight: bold\">'SPECRESP MATRIX'</span><span style=\"color: #c6c6c6; text-decoration-color: #c6c6c6; font-weight: bold\"> </span><span style=\"color: #5f5f5f; text-decoration-color: #5f5f5f; font-weight: bold\">'SPECRESP MATRIX'</span><span style=\"color: #c6c6c6; text-decoration-color: #c6c6c6; font-weight: bold\"> </span><span style=\"color: #5f5f5f; text-decoration-color: #5f5f5f; font-weight: bold\">'SPECRESP MATRIX'</span><span style=\"color: #c6c6c6; text-decoration-color: #c6c6c6; font-weight: bold\">                     </span><span style=\"color: #7f7f7f; text-decoration-color: #7f7f7f\">               </span>\n",
       "</pre>\n"
      ],
      "text/plain": [
       "\u001b[38;5;46m        \u001b[0m\u001b[38;5;46m \u001b[0m\u001b[38;5;134mWARNING \u001b[0m \u001b[1;38;5;251m The default choice for MATRIX extension failed:\u001b[0m\u001b[1;35mKeyError\u001b[0m\u001b[1;38;5;251m(\u001b[0m\u001b[1;38;5;59m\"Extension \u001b[0m\u001b[1;38;5;59m(\u001b[0m\u001b[1;38;5;59m'MATRIX', 6\u001b[0m\u001b[1;38;5;59m)\u001b[0m\u001b[1;38;5;251m \u001b[0m\u001b]8;id=196927;file:///opt/Miniconda3/envs/threeML/lib/python3.7/site-packages/threeML/utils/OGIP/response.py\u001b\\\u001b[2mresponse.py\u001b[0m\u001b]8;;\u001b\\\u001b[2m:\u001b[0m\u001b]8;id=363318;file:///opt/Miniconda3/envs/threeML/lib/python3.7/site-packages/threeML/utils/OGIP/response.py#461\u001b\\\u001b[2m461\u001b[0m\u001b]8;;\u001b\\\n",
       "\u001b[38;5;46m         \u001b[0m         \u001b[1;38;5;59mnot found.\"\u001b[0m\u001b[1;38;5;251m)\u001b[0m\u001b[1;38;5;251mavailable: \u001b[0m\u001b[1;3;35mNone\u001b[0m\u001b[1;38;5;251m \u001b[0m\u001b[1;38;5;59m'EBOUNDS'\u001b[0m\u001b[1;38;5;251m \u001b[0m\u001b[1;38;5;59m'SPECRESP MATRIX'\u001b[0m\u001b[1;38;5;251m \u001b[0m\u001b[1;38;5;59m'SPECRESP MATRIX'\u001b[0m\u001b[1;38;5;251m        \u001b[0m\u001b[1;38;5;251m \u001b[0m\u001b[2m               \u001b[0m\n",
       "\u001b[38;5;46m         \u001b[0m         \u001b[1;38;5;59m'SPECRESP MATRIX'\u001b[0m\u001b[1;38;5;251m \u001b[0m\u001b[1;38;5;59m'SPECRESP MATRIX'\u001b[0m\u001b[1;38;5;251m \u001b[0m\u001b[1;38;5;59m'SPECRESP MATRIX'\u001b[0m\u001b[1;38;5;251m \u001b[0m\u001b[1;38;5;59m'SPECRESP MATRIX'\u001b[0m\u001b[1;38;5;251m \u001b[0m\u001b[1;38;5;59m'SPECRESP\u001b[0m\u001b[1;38;5;251m \u001b[0m\u001b[2m               \u001b[0m\n",
       "\u001b[38;5;46m         \u001b[0m         \u001b[1;38;5;59mMATRIX'\u001b[0m\u001b[1;38;5;251m \u001b[0m\u001b[1;38;5;59m'SPECRESP MATRIX'\u001b[0m\u001b[1;38;5;251m \u001b[0m\u001b[1;38;5;59m'SPECRESP MATRIX'\u001b[0m\u001b[1;38;5;251m \u001b[0m\u001b[1;38;5;59m'SPECRESP MATRIX'\u001b[0m\u001b[1;38;5;251m                    \u001b[0m\u001b[1;38;5;251m \u001b[0m\u001b[2m               \u001b[0m\n"
      ]
     },
     "metadata": {},
     "output_type": "display_data"
    },
    {
     "data": {
      "text/html": [
       "<pre style=\"white-space:pre;overflow-x:auto;line-height:normal;font-family:Menlo,'DejaVu Sans Mono',consolas,'Courier New',monospace\"><span style=\"color: #00ff00; text-decoration-color: #00ff00\">         </span><span style=\"color: #af5fd7; text-decoration-color: #af5fd7\">WARNING </span> <span style=\"color: #c6c6c6; text-decoration-color: #c6c6c6; font-weight: bold\"> Minimum MC energy (</span><span style=\"color: #c0c0c0; text-decoration-color: #c0c0c0; font-weight: bold\">5.0</span><span style=\"color: #c6c6c6; text-decoration-color: #c6c6c6; font-weight: bold\">) is larger than minimum EBOUNDS energy                    </span><a href=\"file:///opt/Miniconda3/envs/threeML/lib/python3.7/site-packages/threeML/utils/OGIP/response.py\" target=\"_blank\"><span style=\"color: #7f7f7f; text-decoration-color: #7f7f7f\">response.py</span></a><span style=\"color: #7f7f7f; text-decoration-color: #7f7f7f\">:</span><a href=\"file:///opt/Miniconda3/envs/threeML/lib/python3.7/site-packages/threeML/utils/OGIP/response.py#139\" target=\"_blank\"><span style=\"color: #7f7f7f; text-decoration-color: #7f7f7f\">139</span></a>\n",
       "<span style=\"color: #00ff00; text-decoration-color: #00ff00\">         </span>         <span style=\"color: #c6c6c6; text-decoration-color: #c6c6c6; font-weight: bold\">(</span><span style=\"color: #c0c0c0; text-decoration-color: #c0c0c0; font-weight: bold\">3.7039999961853027</span><span style=\"color: #c6c6c6; text-decoration-color: #c6c6c6; font-weight: bold\">)                                                              </span><span style=\"color: #7f7f7f; text-decoration-color: #7f7f7f\">               </span>\n",
       "</pre>\n"
      ],
      "text/plain": [
       "\u001b[38;5;46m        \u001b[0m\u001b[38;5;46m \u001b[0m\u001b[38;5;134mWARNING \u001b[0m \u001b[1;38;5;251m Minimum MC energy \u001b[0m\u001b[1;38;5;251m(\u001b[0m\u001b[1;37m5.0\u001b[0m\u001b[1;38;5;251m)\u001b[0m\u001b[1;38;5;251m is larger than minimum EBOUNDS energy                   \u001b[0m\u001b[1;38;5;251m \u001b[0m\u001b]8;id=102253;file:///opt/Miniconda3/envs/threeML/lib/python3.7/site-packages/threeML/utils/OGIP/response.py\u001b\\\u001b[2mresponse.py\u001b[0m\u001b]8;;\u001b\\\u001b[2m:\u001b[0m\u001b]8;id=882667;file:///opt/Miniconda3/envs/threeML/lib/python3.7/site-packages/threeML/utils/OGIP/response.py#139\u001b\\\u001b[2m139\u001b[0m\u001b]8;;\u001b\\\n",
       "\u001b[38;5;46m         \u001b[0m         \u001b[1;38;5;251m(\u001b[0m\u001b[1;37m3.7039999961853027\u001b[0m\u001b[1;38;5;251m)\u001b[0m\u001b[1;38;5;251m                                                             \u001b[0m\u001b[1;38;5;251m \u001b[0m\u001b[2m               \u001b[0m\n"
      ]
     },
     "metadata": {},
     "output_type": "display_data"
    },
    {
     "data": {
      "text/html": [
       "<pre style=\"white-space:pre;overflow-x:auto;line-height:normal;font-family:Menlo,'DejaVu Sans Mono',consolas,'Courier New',monospace\"><span style=\"color: #00ff00; text-decoration-color: #00ff00\">         </span><span style=\"color: #00ffaf; text-decoration-color: #00ffaf\">INFO    </span> <span style=\"color: #c6c6c6; text-decoration-color: #c6c6c6; font-weight: bold\"> Auto-probed noise models:                                                    </span><a href=\"file:///opt/Miniconda3/envs/threeML/lib/python3.7/site-packages/threeML/plugins/SpectrumLike.py\" target=\"_blank\"><span style=\"color: #7f7f7f; text-decoration-color: #7f7f7f\">SpectrumLike.py</span></a><span style=\"color: #7f7f7f; text-decoration-color: #7f7f7f\">:</span><a href=\"file:///opt/Miniconda3/envs/threeML/lib/python3.7/site-packages/threeML/plugins/SpectrumLike.py#491\" target=\"_blank\"><span style=\"color: #7f7f7f; text-decoration-color: #7f7f7f\">491</span></a>\n",
       "</pre>\n"
      ],
      "text/plain": [
       "\u001b[38;5;46m        \u001b[0m\u001b[38;5;46m \u001b[0m\u001b[38;5;49mINFO    \u001b[0m \u001b[1;38;5;251m Auto-probed noise models:                                                   \u001b[0m\u001b[1;38;5;251m \u001b[0m\u001b]8;id=441750;file:///opt/Miniconda3/envs/threeML/lib/python3.7/site-packages/threeML/plugins/SpectrumLike.py\u001b\\\u001b[2mSpectrumLike.py\u001b[0m\u001b]8;;\u001b\\\u001b[2m:\u001b[0m\u001b]8;id=521864;file:///opt/Miniconda3/envs/threeML/lib/python3.7/site-packages/threeML/plugins/SpectrumLike.py#491\u001b\\\u001b[2m491\u001b[0m\u001b]8;;\u001b\\\n"
      ]
     },
     "metadata": {},
     "output_type": "display_data"
    },
    {
     "data": {
      "text/html": [
       "<pre style=\"white-space:pre;overflow-x:auto;line-height:normal;font-family:Menlo,'DejaVu Sans Mono',consolas,'Courier New',monospace\"><span style=\"color: #00ff00; text-decoration-color: #00ff00\">         </span><span style=\"color: #00ffaf; text-decoration-color: #00ffaf\">INFO    </span> <span style=\"color: #c6c6c6; text-decoration-color: #c6c6c6; font-weight: bold\"> - observation: poisson                                                       </span><a href=\"file:///opt/Miniconda3/envs/threeML/lib/python3.7/site-packages/threeML/plugins/SpectrumLike.py\" target=\"_blank\"><span style=\"color: #7f7f7f; text-decoration-color: #7f7f7f\">SpectrumLike.py</span></a><span style=\"color: #7f7f7f; text-decoration-color: #7f7f7f\">:</span><a href=\"file:///opt/Miniconda3/envs/threeML/lib/python3.7/site-packages/threeML/plugins/SpectrumLike.py#492\" target=\"_blank\"><span style=\"color: #7f7f7f; text-decoration-color: #7f7f7f\">492</span></a>\n",
       "</pre>\n"
      ],
      "text/plain": [
       "\u001b[38;5;46m        \u001b[0m\u001b[38;5;46m \u001b[0m\u001b[38;5;49mINFO    \u001b[0m \u001b[1;38;5;251m - observation: poisson                                                      \u001b[0m\u001b[1;38;5;251m \u001b[0m\u001b]8;id=509499;file:///opt/Miniconda3/envs/threeML/lib/python3.7/site-packages/threeML/plugins/SpectrumLike.py\u001b\\\u001b[2mSpectrumLike.py\u001b[0m\u001b]8;;\u001b\\\u001b[2m:\u001b[0m\u001b]8;id=529177;file:///opt/Miniconda3/envs/threeML/lib/python3.7/site-packages/threeML/plugins/SpectrumLike.py#492\u001b\\\u001b[2m492\u001b[0m\u001b]8;;\u001b\\\n"
      ]
     },
     "metadata": {},
     "output_type": "display_data"
    },
    {
     "data": {
      "text/html": [
       "<pre style=\"white-space:pre;overflow-x:auto;line-height:normal;font-family:Menlo,'DejaVu Sans Mono',consolas,'Courier New',monospace\"><span style=\"color: #00ff00; text-decoration-color: #00ff00\">         </span><span style=\"color: #00ffaf; text-decoration-color: #00ffaf\">INFO    </span> <span style=\"color: #c6c6c6; text-decoration-color: #c6c6c6; font-weight: bold\"> - background: gaussian                                                       </span><a href=\"file:///opt/Miniconda3/envs/threeML/lib/python3.7/site-packages/threeML/plugins/SpectrumLike.py\" target=\"_blank\"><span style=\"color: #7f7f7f; text-decoration-color: #7f7f7f\">SpectrumLike.py</span></a><span style=\"color: #7f7f7f; text-decoration-color: #7f7f7f\">:</span><a href=\"file:///opt/Miniconda3/envs/threeML/lib/python3.7/site-packages/threeML/plugins/SpectrumLike.py#493\" target=\"_blank\"><span style=\"color: #7f7f7f; text-decoration-color: #7f7f7f\">493</span></a>\n",
       "</pre>\n"
      ],
      "text/plain": [
       "\u001b[38;5;46m        \u001b[0m\u001b[38;5;46m \u001b[0m\u001b[38;5;49mINFO    \u001b[0m \u001b[1;38;5;251m - background: gaussian                                                      \u001b[0m\u001b[1;38;5;251m \u001b[0m\u001b]8;id=530419;file:///opt/Miniconda3/envs/threeML/lib/python3.7/site-packages/threeML/plugins/SpectrumLike.py\u001b\\\u001b[2mSpectrumLike.py\u001b[0m\u001b]8;;\u001b\\\u001b[2m:\u001b[0m\u001b]8;id=223863;file:///opt/Miniconda3/envs/threeML/lib/python3.7/site-packages/threeML/plugins/SpectrumLike.py#493\u001b\\\u001b[2m493\u001b[0m\u001b]8;;\u001b\\\n"
      ]
     },
     "metadata": {},
     "output_type": "display_data"
    },
    {
     "data": {
      "text/html": [
       "<pre style=\"white-space:pre;overflow-x:auto;line-height:normal;font-family:Menlo,'DejaVu Sans Mono',consolas,'Courier New',monospace\"><span style=\"color: #00ff00; text-decoration-color: #00ff00\">         </span><span style=\"color: #00ffaf; text-decoration-color: #00ffaf\">INFO    </span> <span style=\"color: #c6c6c6; text-decoration-color: #c6c6c6; font-weight: bold\"> Range </span><span style=\"color: #c0c0c0; text-decoration-color: #c0c0c0; font-weight: bold\">8</span><span style=\"color: #c6c6c6; text-decoration-color: #c6c6c6; font-weight: bold\">-</span><span style=\"color: #c0c0c0; text-decoration-color: #c0c0c0; font-weight: bold\">30</span><span style=\"color: #c6c6c6; text-decoration-color: #c6c6c6; font-weight: bold\"> translates to channels </span><span style=\"color: #c0c0c0; text-decoration-color: #c0c0c0; font-weight: bold\">4</span><span style=\"color: #c6c6c6; text-decoration-color: #c6c6c6; font-weight: bold\">-</span><span style=\"color: #c0c0c0; text-decoration-color: #c0c0c0; font-weight: bold\">22</span><span style=\"color: #c6c6c6; text-decoration-color: #c6c6c6; font-weight: bold\">                                      </span><a href=\"file:///opt/Miniconda3/envs/threeML/lib/python3.7/site-packages/threeML/plugins/SpectrumLike.py\" target=\"_blank\"><span style=\"color: #7f7f7f; text-decoration-color: #7f7f7f\">SpectrumLike.py</span></a><span style=\"color: #7f7f7f; text-decoration-color: #7f7f7f\">:</span><a href=\"file:///opt/Miniconda3/envs/threeML/lib/python3.7/site-packages/threeML/plugins/SpectrumLike.py#1245\" target=\"_blank\"><span style=\"color: #7f7f7f; text-decoration-color: #7f7f7f\">1245</span></a>\n",
       "</pre>\n"
      ],
      "text/plain": [
       "\u001b[38;5;46m        \u001b[0m\u001b[38;5;46m \u001b[0m\u001b[38;5;49mINFO    \u001b[0m \u001b[1;38;5;251m Range \u001b[0m\u001b[1;37m8\u001b[0m\u001b[1;38;5;251m-\u001b[0m\u001b[1;37m30\u001b[0m\u001b[1;38;5;251m translates to channels \u001b[0m\u001b[1;37m4\u001b[0m\u001b[1;38;5;251m-\u001b[0m\u001b[1;37m22\u001b[0m\u001b[1;38;5;251m                                     \u001b[0m\u001b[1;38;5;251m \u001b[0m\u001b]8;id=197616;file:///opt/Miniconda3/envs/threeML/lib/python3.7/site-packages/threeML/plugins/SpectrumLike.py\u001b\\\u001b[2mSpectrumLike.py\u001b[0m\u001b]8;;\u001b\\\u001b[2m:\u001b[0m\u001b]8;id=390825;file:///opt/Miniconda3/envs/threeML/lib/python3.7/site-packages/threeML/plugins/SpectrumLike.py#1245\u001b\\\u001b[2m1245\u001b[0m\u001b]8;;\u001b\\\n"
      ]
     },
     "metadata": {},
     "output_type": "display_data"
    },
    {
     "data": {
      "text/html": [
       "<pre style=\"white-space:pre;overflow-x:auto;line-height:normal;font-family:Menlo,'DejaVu Sans Mono',consolas,'Courier New',monospace\"><span style=\"color: #00ff00; text-decoration-color: #00ff00\">         </span><span style=\"color: #00ffaf; text-decoration-color: #00ffaf\">INFO    </span> <span style=\"color: #c6c6c6; text-decoration-color: #c6c6c6; font-weight: bold\"> Range </span><span style=\"color: #c0c0c0; text-decoration-color: #c0c0c0; font-weight: bold\">40</span><span style=\"color: #c6c6c6; text-decoration-color: #c6c6c6; font-weight: bold\">-</span><span style=\"color: #c0c0c0; text-decoration-color: #c0c0c0; font-weight: bold\">900</span><span style=\"color: #c6c6c6; text-decoration-color: #c6c6c6; font-weight: bold\"> translates to channels </span><span style=\"color: #c0c0c0; text-decoration-color: #c0c0c0; font-weight: bold\">27</span><span style=\"color: #c6c6c6; text-decoration-color: #c6c6c6; font-weight: bold\">-</span><span style=\"color: #c0c0c0; text-decoration-color: #c0c0c0; font-weight: bold\">123</span><span style=\"color: #c6c6c6; text-decoration-color: #c6c6c6; font-weight: bold\">                                  </span><a href=\"file:///opt/Miniconda3/envs/threeML/lib/python3.7/site-packages/threeML/plugins/SpectrumLike.py\" target=\"_blank\"><span style=\"color: #7f7f7f; text-decoration-color: #7f7f7f\">SpectrumLike.py</span></a><span style=\"color: #7f7f7f; text-decoration-color: #7f7f7f\">:</span><a href=\"file:///opt/Miniconda3/envs/threeML/lib/python3.7/site-packages/threeML/plugins/SpectrumLike.py#1245\" target=\"_blank\"><span style=\"color: #7f7f7f; text-decoration-color: #7f7f7f\">1245</span></a>\n",
       "</pre>\n"
      ],
      "text/plain": [
       "\u001b[38;5;46m        \u001b[0m\u001b[38;5;46m \u001b[0m\u001b[38;5;49mINFO    \u001b[0m \u001b[1;38;5;251m Range \u001b[0m\u001b[1;37m40\u001b[0m\u001b[1;38;5;251m-\u001b[0m\u001b[1;37m900\u001b[0m\u001b[1;38;5;251m translates to channels \u001b[0m\u001b[1;37m27\u001b[0m\u001b[1;38;5;251m-\u001b[0m\u001b[1;37m123\u001b[0m\u001b[1;38;5;251m                                 \u001b[0m\u001b[1;38;5;251m \u001b[0m\u001b]8;id=599035;file:///opt/Miniconda3/envs/threeML/lib/python3.7/site-packages/threeML/plugins/SpectrumLike.py\u001b\\\u001b[2mSpectrumLike.py\u001b[0m\u001b]8;;\u001b\\\u001b[2m:\u001b[0m\u001b]8;id=755980;file:///opt/Miniconda3/envs/threeML/lib/python3.7/site-packages/threeML/plugins/SpectrumLike.py#1245\u001b\\\u001b[2m1245\u001b[0m\u001b]8;;\u001b\\\n"
      ]
     },
     "metadata": {},
     "output_type": "display_data"
    },
    {
     "data": {
      "text/html": [
       "<pre style=\"white-space:pre;overflow-x:auto;line-height:normal;font-family:Menlo,'DejaVu Sans Mono',consolas,'Courier New',monospace\"><span style=\"color: #00ff00; text-decoration-color: #00ff00\">         </span><span style=\"color: #af5fd7; text-decoration-color: #af5fd7\">WARNING </span> <span style=\"color: #c6c6c6; text-decoration-color: #c6c6c6; font-weight: bold\"> The default choice for MATRIX extension failed:</span><span style=\"color: #800080; text-decoration-color: #800080; font-weight: bold\">KeyError</span><span style=\"color: #c6c6c6; text-decoration-color: #c6c6c6; font-weight: bold\">(</span><span style=\"color: #5f5f5f; text-decoration-color: #5f5f5f; font-weight: bold\">\"Extension ('MATRIX', 6)</span><span style=\"color: #c6c6c6; text-decoration-color: #c6c6c6; font-weight: bold\"> </span><a href=\"file:///opt/Miniconda3/envs/threeML/lib/python3.7/site-packages/threeML/utils/OGIP/response.py\" target=\"_blank\"><span style=\"color: #7f7f7f; text-decoration-color: #7f7f7f\">response.py</span></a><span style=\"color: #7f7f7f; text-decoration-color: #7f7f7f\">:</span><a href=\"file:///opt/Miniconda3/envs/threeML/lib/python3.7/site-packages/threeML/utils/OGIP/response.py#461\" target=\"_blank\"><span style=\"color: #7f7f7f; text-decoration-color: #7f7f7f\">461</span></a>\n",
       "<span style=\"color: #00ff00; text-decoration-color: #00ff00\">         </span>         <span style=\"color: #5f5f5f; text-decoration-color: #5f5f5f; font-weight: bold\">not found.\"</span><span style=\"color: #c6c6c6; text-decoration-color: #c6c6c6; font-weight: bold\">)available: </span><span style=\"color: #800080; text-decoration-color: #800080; font-weight: bold; font-style: italic\">None</span><span style=\"color: #c6c6c6; text-decoration-color: #c6c6c6; font-weight: bold\"> </span><span style=\"color: #5f5f5f; text-decoration-color: #5f5f5f; font-weight: bold\">'EBOUNDS'</span><span style=\"color: #c6c6c6; text-decoration-color: #c6c6c6; font-weight: bold\"> </span><span style=\"color: #5f5f5f; text-decoration-color: #5f5f5f; font-weight: bold\">'SPECRESP MATRIX'</span><span style=\"color: #c6c6c6; text-decoration-color: #c6c6c6; font-weight: bold\"> </span><span style=\"color: #5f5f5f; text-decoration-color: #5f5f5f; font-weight: bold\">'SPECRESP MATRIX'</span><span style=\"color: #c6c6c6; text-decoration-color: #c6c6c6; font-weight: bold\">         </span><span style=\"color: #7f7f7f; text-decoration-color: #7f7f7f\">               </span>\n",
       "<span style=\"color: #00ff00; text-decoration-color: #00ff00\">         </span>         <span style=\"color: #5f5f5f; text-decoration-color: #5f5f5f; font-weight: bold\">'SPECRESP MATRIX'</span><span style=\"color: #c6c6c6; text-decoration-color: #c6c6c6; font-weight: bold\"> </span><span style=\"color: #5f5f5f; text-decoration-color: #5f5f5f; font-weight: bold\">'SPECRESP MATRIX'</span><span style=\"color: #c6c6c6; text-decoration-color: #c6c6c6; font-weight: bold\"> </span><span style=\"color: #5f5f5f; text-decoration-color: #5f5f5f; font-weight: bold\">'SPECRESP MATRIX'</span><span style=\"color: #c6c6c6; text-decoration-color: #c6c6c6; font-weight: bold\"> </span><span style=\"color: #5f5f5f; text-decoration-color: #5f5f5f; font-weight: bold\">'SPECRESP MATRIX'</span><span style=\"color: #c6c6c6; text-decoration-color: #c6c6c6; font-weight: bold\"> </span><span style=\"color: #5f5f5f; text-decoration-color: #5f5f5f; font-weight: bold\">'SPECRESP</span><span style=\"color: #c6c6c6; text-decoration-color: #c6c6c6; font-weight: bold\"> </span><span style=\"color: #7f7f7f; text-decoration-color: #7f7f7f\">               </span>\n",
       "<span style=\"color: #00ff00; text-decoration-color: #00ff00\">         </span>         <span style=\"color: #5f5f5f; text-decoration-color: #5f5f5f; font-weight: bold\">MATRIX'</span><span style=\"color: #c6c6c6; text-decoration-color: #c6c6c6; font-weight: bold\"> </span><span style=\"color: #5f5f5f; text-decoration-color: #5f5f5f; font-weight: bold\">'SPECRESP MATRIX'</span><span style=\"color: #c6c6c6; text-decoration-color: #c6c6c6; font-weight: bold\"> </span><span style=\"color: #5f5f5f; text-decoration-color: #5f5f5f; font-weight: bold\">'SPECRESP MATRIX'</span><span style=\"color: #c6c6c6; text-decoration-color: #c6c6c6; font-weight: bold\"> </span><span style=\"color: #5f5f5f; text-decoration-color: #5f5f5f; font-weight: bold\">'SPECRESP MATRIX'</span><span style=\"color: #c6c6c6; text-decoration-color: #c6c6c6; font-weight: bold\">                     </span><span style=\"color: #7f7f7f; text-decoration-color: #7f7f7f\">               </span>\n",
       "</pre>\n"
      ],
      "text/plain": [
       "\u001b[38;5;46m        \u001b[0m\u001b[38;5;46m \u001b[0m\u001b[38;5;134mWARNING \u001b[0m \u001b[1;38;5;251m The default choice for MATRIX extension failed:\u001b[0m\u001b[1;35mKeyError\u001b[0m\u001b[1;38;5;251m(\u001b[0m\u001b[1;38;5;59m\"Extension \u001b[0m\u001b[1;38;5;59m(\u001b[0m\u001b[1;38;5;59m'MATRIX', 6\u001b[0m\u001b[1;38;5;59m)\u001b[0m\u001b[1;38;5;251m \u001b[0m\u001b]8;id=485503;file:///opt/Miniconda3/envs/threeML/lib/python3.7/site-packages/threeML/utils/OGIP/response.py\u001b\\\u001b[2mresponse.py\u001b[0m\u001b]8;;\u001b\\\u001b[2m:\u001b[0m\u001b]8;id=654251;file:///opt/Miniconda3/envs/threeML/lib/python3.7/site-packages/threeML/utils/OGIP/response.py#461\u001b\\\u001b[2m461\u001b[0m\u001b]8;;\u001b\\\n",
       "\u001b[38;5;46m         \u001b[0m         \u001b[1;38;5;59mnot found.\"\u001b[0m\u001b[1;38;5;251m)\u001b[0m\u001b[1;38;5;251mavailable: \u001b[0m\u001b[1;3;35mNone\u001b[0m\u001b[1;38;5;251m \u001b[0m\u001b[1;38;5;59m'EBOUNDS'\u001b[0m\u001b[1;38;5;251m \u001b[0m\u001b[1;38;5;59m'SPECRESP MATRIX'\u001b[0m\u001b[1;38;5;251m \u001b[0m\u001b[1;38;5;59m'SPECRESP MATRIX'\u001b[0m\u001b[1;38;5;251m        \u001b[0m\u001b[1;38;5;251m \u001b[0m\u001b[2m               \u001b[0m\n",
       "\u001b[38;5;46m         \u001b[0m         \u001b[1;38;5;59m'SPECRESP MATRIX'\u001b[0m\u001b[1;38;5;251m \u001b[0m\u001b[1;38;5;59m'SPECRESP MATRIX'\u001b[0m\u001b[1;38;5;251m \u001b[0m\u001b[1;38;5;59m'SPECRESP MATRIX'\u001b[0m\u001b[1;38;5;251m \u001b[0m\u001b[1;38;5;59m'SPECRESP MATRIX'\u001b[0m\u001b[1;38;5;251m \u001b[0m\u001b[1;38;5;59m'SPECRESP\u001b[0m\u001b[1;38;5;251m \u001b[0m\u001b[2m               \u001b[0m\n",
       "\u001b[38;5;46m         \u001b[0m         \u001b[1;38;5;59mMATRIX'\u001b[0m\u001b[1;38;5;251m \u001b[0m\u001b[1;38;5;59m'SPECRESP MATRIX'\u001b[0m\u001b[1;38;5;251m \u001b[0m\u001b[1;38;5;59m'SPECRESP MATRIX'\u001b[0m\u001b[1;38;5;251m \u001b[0m\u001b[1;38;5;59m'SPECRESP MATRIX'\u001b[0m\u001b[1;38;5;251m                    \u001b[0m\u001b[1;38;5;251m \u001b[0m\u001b[2m               \u001b[0m\n"
      ]
     },
     "metadata": {},
     "output_type": "display_data"
    },
    {
     "data": {
      "text/html": [
       "<pre style=\"white-space:pre;overflow-x:auto;line-height:normal;font-family:Menlo,'DejaVu Sans Mono',consolas,'Courier New',monospace\"><span style=\"color: #00ff00; text-decoration-color: #00ff00\">         </span><span style=\"color: #af5fd7; text-decoration-color: #af5fd7\">WARNING </span> <span style=\"color: #c6c6c6; text-decoration-color: #c6c6c6; font-weight: bold\"> Minimum MC energy (</span><span style=\"color: #c0c0c0; text-decoration-color: #c0c0c0; font-weight: bold\">5.0</span><span style=\"color: #c6c6c6; text-decoration-color: #c6c6c6; font-weight: bold\">) is larger than minimum EBOUNDS energy                    </span><a href=\"file:///opt/Miniconda3/envs/threeML/lib/python3.7/site-packages/threeML/utils/OGIP/response.py\" target=\"_blank\"><span style=\"color: #7f7f7f; text-decoration-color: #7f7f7f\">response.py</span></a><span style=\"color: #7f7f7f; text-decoration-color: #7f7f7f\">:</span><a href=\"file:///opt/Miniconda3/envs/threeML/lib/python3.7/site-packages/threeML/utils/OGIP/response.py#139\" target=\"_blank\"><span style=\"color: #7f7f7f; text-decoration-color: #7f7f7f\">139</span></a>\n",
       "<span style=\"color: #00ff00; text-decoration-color: #00ff00\">         </span>         <span style=\"color: #c6c6c6; text-decoration-color: #c6c6c6; font-weight: bold\">(</span><span style=\"color: #c0c0c0; text-decoration-color: #c0c0c0; font-weight: bold\">4.394000053405762</span><span style=\"color: #c6c6c6; text-decoration-color: #c6c6c6; font-weight: bold\">)                                                               </span><span style=\"color: #7f7f7f; text-decoration-color: #7f7f7f\">               </span>\n",
       "</pre>\n"
      ],
      "text/plain": [
       "\u001b[38;5;46m        \u001b[0m\u001b[38;5;46m \u001b[0m\u001b[38;5;134mWARNING \u001b[0m \u001b[1;38;5;251m Minimum MC energy \u001b[0m\u001b[1;38;5;251m(\u001b[0m\u001b[1;37m5.0\u001b[0m\u001b[1;38;5;251m)\u001b[0m\u001b[1;38;5;251m is larger than minimum EBOUNDS energy                   \u001b[0m\u001b[1;38;5;251m \u001b[0m\u001b]8;id=879206;file:///opt/Miniconda3/envs/threeML/lib/python3.7/site-packages/threeML/utils/OGIP/response.py\u001b\\\u001b[2mresponse.py\u001b[0m\u001b]8;;\u001b\\\u001b[2m:\u001b[0m\u001b]8;id=930281;file:///opt/Miniconda3/envs/threeML/lib/python3.7/site-packages/threeML/utils/OGIP/response.py#139\u001b\\\u001b[2m139\u001b[0m\u001b]8;;\u001b\\\n",
       "\u001b[38;5;46m         \u001b[0m         \u001b[1;38;5;251m(\u001b[0m\u001b[1;37m4.394000053405762\u001b[0m\u001b[1;38;5;251m)\u001b[0m\u001b[1;38;5;251m                                                              \u001b[0m\u001b[1;38;5;251m \u001b[0m\u001b[2m               \u001b[0m\n"
      ]
     },
     "metadata": {},
     "output_type": "display_data"
    },
    {
     "data": {
      "text/html": [
       "<pre style=\"white-space:pre;overflow-x:auto;line-height:normal;font-family:Menlo,'DejaVu Sans Mono',consolas,'Courier New',monospace\"><span style=\"color: #00ff00; text-decoration-color: #00ff00\">         </span><span style=\"color: #00ffaf; text-decoration-color: #00ffaf\">INFO    </span> <span style=\"color: #c6c6c6; text-decoration-color: #c6c6c6; font-weight: bold\"> Auto-probed noise models:                                                    </span><a href=\"file:///opt/Miniconda3/envs/threeML/lib/python3.7/site-packages/threeML/plugins/SpectrumLike.py\" target=\"_blank\"><span style=\"color: #7f7f7f; text-decoration-color: #7f7f7f\">SpectrumLike.py</span></a><span style=\"color: #7f7f7f; text-decoration-color: #7f7f7f\">:</span><a href=\"file:///opt/Miniconda3/envs/threeML/lib/python3.7/site-packages/threeML/plugins/SpectrumLike.py#491\" target=\"_blank\"><span style=\"color: #7f7f7f; text-decoration-color: #7f7f7f\">491</span></a>\n",
       "</pre>\n"
      ],
      "text/plain": [
       "\u001b[38;5;46m        \u001b[0m\u001b[38;5;46m \u001b[0m\u001b[38;5;49mINFO    \u001b[0m \u001b[1;38;5;251m Auto-probed noise models:                                                   \u001b[0m\u001b[1;38;5;251m \u001b[0m\u001b]8;id=149366;file:///opt/Miniconda3/envs/threeML/lib/python3.7/site-packages/threeML/plugins/SpectrumLike.py\u001b\\\u001b[2mSpectrumLike.py\u001b[0m\u001b]8;;\u001b\\\u001b[2m:\u001b[0m\u001b]8;id=622810;file:///opt/Miniconda3/envs/threeML/lib/python3.7/site-packages/threeML/plugins/SpectrumLike.py#491\u001b\\\u001b[2m491\u001b[0m\u001b]8;;\u001b\\\n"
      ]
     },
     "metadata": {},
     "output_type": "display_data"
    },
    {
     "data": {
      "text/html": [
       "<pre style=\"white-space:pre;overflow-x:auto;line-height:normal;font-family:Menlo,'DejaVu Sans Mono',consolas,'Courier New',monospace\"><span style=\"color: #00ff00; text-decoration-color: #00ff00\">         </span><span style=\"color: #00ffaf; text-decoration-color: #00ffaf\">INFO    </span> <span style=\"color: #c6c6c6; text-decoration-color: #c6c6c6; font-weight: bold\"> - observation: poisson                                                       </span><a href=\"file:///opt/Miniconda3/envs/threeML/lib/python3.7/site-packages/threeML/plugins/SpectrumLike.py\" target=\"_blank\"><span style=\"color: #7f7f7f; text-decoration-color: #7f7f7f\">SpectrumLike.py</span></a><span style=\"color: #7f7f7f; text-decoration-color: #7f7f7f\">:</span><a href=\"file:///opt/Miniconda3/envs/threeML/lib/python3.7/site-packages/threeML/plugins/SpectrumLike.py#492\" target=\"_blank\"><span style=\"color: #7f7f7f; text-decoration-color: #7f7f7f\">492</span></a>\n",
       "</pre>\n"
      ],
      "text/plain": [
       "\u001b[38;5;46m        \u001b[0m\u001b[38;5;46m \u001b[0m\u001b[38;5;49mINFO    \u001b[0m \u001b[1;38;5;251m - observation: poisson                                                      \u001b[0m\u001b[1;38;5;251m \u001b[0m\u001b]8;id=577055;file:///opt/Miniconda3/envs/threeML/lib/python3.7/site-packages/threeML/plugins/SpectrumLike.py\u001b\\\u001b[2mSpectrumLike.py\u001b[0m\u001b]8;;\u001b\\\u001b[2m:\u001b[0m\u001b]8;id=670040;file:///opt/Miniconda3/envs/threeML/lib/python3.7/site-packages/threeML/plugins/SpectrumLike.py#492\u001b\\\u001b[2m492\u001b[0m\u001b]8;;\u001b\\\n"
      ]
     },
     "metadata": {},
     "output_type": "display_data"
    },
    {
     "data": {
      "text/html": [
       "<pre style=\"white-space:pre;overflow-x:auto;line-height:normal;font-family:Menlo,'DejaVu Sans Mono',consolas,'Courier New',monospace\"><span style=\"color: #00ff00; text-decoration-color: #00ff00\">         </span><span style=\"color: #00ffaf; text-decoration-color: #00ffaf\">INFO    </span> <span style=\"color: #c6c6c6; text-decoration-color: #c6c6c6; font-weight: bold\"> - background: gaussian                                                       </span><a href=\"file:///opt/Miniconda3/envs/threeML/lib/python3.7/site-packages/threeML/plugins/SpectrumLike.py\" target=\"_blank\"><span style=\"color: #7f7f7f; text-decoration-color: #7f7f7f\">SpectrumLike.py</span></a><span style=\"color: #7f7f7f; text-decoration-color: #7f7f7f\">:</span><a href=\"file:///opt/Miniconda3/envs/threeML/lib/python3.7/site-packages/threeML/plugins/SpectrumLike.py#493\" target=\"_blank\"><span style=\"color: #7f7f7f; text-decoration-color: #7f7f7f\">493</span></a>\n",
       "</pre>\n"
      ],
      "text/plain": [
       "\u001b[38;5;46m        \u001b[0m\u001b[38;5;46m \u001b[0m\u001b[38;5;49mINFO    \u001b[0m \u001b[1;38;5;251m - background: gaussian                                                      \u001b[0m\u001b[1;38;5;251m \u001b[0m\u001b]8;id=846599;file:///opt/Miniconda3/envs/threeML/lib/python3.7/site-packages/threeML/plugins/SpectrumLike.py\u001b\\\u001b[2mSpectrumLike.py\u001b[0m\u001b]8;;\u001b\\\u001b[2m:\u001b[0m\u001b]8;id=312034;file:///opt/Miniconda3/envs/threeML/lib/python3.7/site-packages/threeML/plugins/SpectrumLike.py#493\u001b\\\u001b[2m493\u001b[0m\u001b]8;;\u001b\\\n"
      ]
     },
     "metadata": {},
     "output_type": "display_data"
    },
    {
     "data": {
      "text/html": [
       "<pre style=\"white-space:pre;overflow-x:auto;line-height:normal;font-family:Menlo,'DejaVu Sans Mono',consolas,'Courier New',monospace\"><span style=\"color: #00ff00; text-decoration-color: #00ff00\">         </span><span style=\"color: #00ffaf; text-decoration-color: #00ffaf\">INFO    </span> <span style=\"color: #c6c6c6; text-decoration-color: #c6c6c6; font-weight: bold\"> Range </span><span style=\"color: #c0c0c0; text-decoration-color: #c0c0c0; font-weight: bold\">8</span><span style=\"color: #c6c6c6; text-decoration-color: #c6c6c6; font-weight: bold\">-</span><span style=\"color: #c0c0c0; text-decoration-color: #c0c0c0; font-weight: bold\">30</span><span style=\"color: #c6c6c6; text-decoration-color: #c6c6c6; font-weight: bold\"> translates to channels </span><span style=\"color: #c0c0c0; text-decoration-color: #c0c0c0; font-weight: bold\">3</span><span style=\"color: #c6c6c6; text-decoration-color: #c6c6c6; font-weight: bold\">-</span><span style=\"color: #c0c0c0; text-decoration-color: #c0c0c0; font-weight: bold\">21</span><span style=\"color: #c6c6c6; text-decoration-color: #c6c6c6; font-weight: bold\">                                      </span><a href=\"file:///opt/Miniconda3/envs/threeML/lib/python3.7/site-packages/threeML/plugins/SpectrumLike.py\" target=\"_blank\"><span style=\"color: #7f7f7f; text-decoration-color: #7f7f7f\">SpectrumLike.py</span></a><span style=\"color: #7f7f7f; text-decoration-color: #7f7f7f\">:</span><a href=\"file:///opt/Miniconda3/envs/threeML/lib/python3.7/site-packages/threeML/plugins/SpectrumLike.py#1245\" target=\"_blank\"><span style=\"color: #7f7f7f; text-decoration-color: #7f7f7f\">1245</span></a>\n",
       "</pre>\n"
      ],
      "text/plain": [
       "\u001b[38;5;46m        \u001b[0m\u001b[38;5;46m \u001b[0m\u001b[38;5;49mINFO    \u001b[0m \u001b[1;38;5;251m Range \u001b[0m\u001b[1;37m8\u001b[0m\u001b[1;38;5;251m-\u001b[0m\u001b[1;37m30\u001b[0m\u001b[1;38;5;251m translates to channels \u001b[0m\u001b[1;37m3\u001b[0m\u001b[1;38;5;251m-\u001b[0m\u001b[1;37m21\u001b[0m\u001b[1;38;5;251m                                     \u001b[0m\u001b[1;38;5;251m \u001b[0m\u001b]8;id=17709;file:///opt/Miniconda3/envs/threeML/lib/python3.7/site-packages/threeML/plugins/SpectrumLike.py\u001b\\\u001b[2mSpectrumLike.py\u001b[0m\u001b]8;;\u001b\\\u001b[2m:\u001b[0m\u001b]8;id=220632;file:///opt/Miniconda3/envs/threeML/lib/python3.7/site-packages/threeML/plugins/SpectrumLike.py#1245\u001b\\\u001b[2m1245\u001b[0m\u001b]8;;\u001b\\\n"
      ]
     },
     "metadata": {},
     "output_type": "display_data"
    },
    {
     "data": {
      "text/html": [
       "<pre style=\"white-space:pre;overflow-x:auto;line-height:normal;font-family:Menlo,'DejaVu Sans Mono',consolas,'Courier New',monospace\"><span style=\"color: #00ff00; text-decoration-color: #00ff00\">         </span><span style=\"color: #00ffaf; text-decoration-color: #00ffaf\">INFO    </span> <span style=\"color: #c6c6c6; text-decoration-color: #c6c6c6; font-weight: bold\"> Range </span><span style=\"color: #c0c0c0; text-decoration-color: #c0c0c0; font-weight: bold\">40</span><span style=\"color: #c6c6c6; text-decoration-color: #c6c6c6; font-weight: bold\">-</span><span style=\"color: #c0c0c0; text-decoration-color: #c0c0c0; font-weight: bold\">900</span><span style=\"color: #c6c6c6; text-decoration-color: #c6c6c6; font-weight: bold\"> translates to channels </span><span style=\"color: #c0c0c0; text-decoration-color: #c0c0c0; font-weight: bold\">27</span><span style=\"color: #c6c6c6; text-decoration-color: #c6c6c6; font-weight: bold\">-</span><span style=\"color: #c0c0c0; text-decoration-color: #c0c0c0; font-weight: bold\">123</span><span style=\"color: #c6c6c6; text-decoration-color: #c6c6c6; font-weight: bold\">                                  </span><a href=\"file:///opt/Miniconda3/envs/threeML/lib/python3.7/site-packages/threeML/plugins/SpectrumLike.py\" target=\"_blank\"><span style=\"color: #7f7f7f; text-decoration-color: #7f7f7f\">SpectrumLike.py</span></a><span style=\"color: #7f7f7f; text-decoration-color: #7f7f7f\">:</span><a href=\"file:///opt/Miniconda3/envs/threeML/lib/python3.7/site-packages/threeML/plugins/SpectrumLike.py#1245\" target=\"_blank\"><span style=\"color: #7f7f7f; text-decoration-color: #7f7f7f\">1245</span></a>\n",
       "</pre>\n"
      ],
      "text/plain": [
       "\u001b[38;5;46m        \u001b[0m\u001b[38;5;46m \u001b[0m\u001b[38;5;49mINFO    \u001b[0m \u001b[1;38;5;251m Range \u001b[0m\u001b[1;37m40\u001b[0m\u001b[1;38;5;251m-\u001b[0m\u001b[1;37m900\u001b[0m\u001b[1;38;5;251m translates to channels \u001b[0m\u001b[1;37m27\u001b[0m\u001b[1;38;5;251m-\u001b[0m\u001b[1;37m123\u001b[0m\u001b[1;38;5;251m                                 \u001b[0m\u001b[1;38;5;251m \u001b[0m\u001b]8;id=582317;file:///opt/Miniconda3/envs/threeML/lib/python3.7/site-packages/threeML/plugins/SpectrumLike.py\u001b\\\u001b[2mSpectrumLike.py\u001b[0m\u001b]8;;\u001b\\\u001b[2m:\u001b[0m\u001b]8;id=215806;file:///opt/Miniconda3/envs/threeML/lib/python3.7/site-packages/threeML/plugins/SpectrumLike.py#1245\u001b\\\u001b[2m1245\u001b[0m\u001b]8;;\u001b\\\n"
      ]
     },
     "metadata": {},
     "output_type": "display_data"
    }
   ],
   "source": [
    "ogip_objects = ogip_like()\n",
    "nai9 = ogip_objects[0]\n",
    "naia = ogip_objects[1]\n",
    "naib = ogip_objects[2]\n",
    "bgo0 = ogip_objects[3]"
   ]
  },
  {
   "cell_type": "code",
   "execution_count": 29,
   "id": "99874712",
   "metadata": {
    "scrolled": true
   },
   "outputs": [
    {
     "data": {
      "text/plain": [
       "pha file                      TR_nb_spectraFile.pha\n",
       "bak file                  TR_nb_spectraFile_bak.pha\n",
       "n. channels                                     128\n",
       "total rate                              1664.356445\n",
       "total bkg. rate                          870.901184\n",
       "total bkg. rate error                      3.531158\n",
       "bkg. exposure                              4.405306\n",
       "bkg. is poisson                               False\n",
       "exposure                                   4.405306\n",
       "is poisson                                     True\n",
       "background                                 profiled\n",
       "significance                              48.235295\n",
       "src/bkg area ratio                              1.0\n",
       "src/bkg exposure ratio                          1.0\n",
       "src/bkg scale factor                            1.0\n",
       "response                      TR_nb_spectraFile.rsp"
      ]
     },
     "execution_count": 29,
     "metadata": {},
     "output_type": "execute_result"
    }
   ],
   "source": [
    "naib"
   ]
  },
  {
   "cell_type": "code",
   "execution_count": 33,
   "id": "3d9b5357",
   "metadata": {
    "scrolled": true
   },
   "outputs": [],
   "source": [
    "data_list = DataList(*ogip_objects)\n",
    "# data_list = DataList(nai9, naia, naib)"
   ]
  },
  {
   "cell_type": "code",
   "execution_count": 34,
   "id": "2c906846",
   "metadata": {},
   "outputs": [
    {
     "data": {
      "text/plain": [
       "<threeML.data_list.DataList at 0x7eb90ee80610>"
      ]
     },
     "execution_count": 34,
     "metadata": {},
     "output_type": "execute_result"
    }
   ],
   "source": [
    "data_list"
   ]
  },
  {
   "cell_type": "code",
   "execution_count": 35,
   "id": "20e63d3c",
   "metadata": {
    "scrolled": true
   },
   "outputs": [
    {
     "data": {
      "text/html": [
       "<pre style=\"white-space:pre;overflow-x:auto;line-height:normal;font-family:Menlo,'DejaVu Sans Mono',consolas,'Courier New',monospace\"><span style=\"color: #00ff00; text-decoration-color: #00ff00\">19:14:39 </span><span style=\"color: #00ffaf; text-decoration-color: #00ffaf\">INFO    </span> <span style=\"color: #c6c6c6; text-decoration-color: #c6c6c6; font-weight: bold\"> set the minimizer to minuit                                             </span><a href=\"file:///opt/Miniconda3/envs/threeML/lib/python3.7/site-packages/threeML/classicMLE/joint_likelihood.py\" target=\"_blank\"><span style=\"color: #7f7f7f; text-decoration-color: #7f7f7f\">joint_likelihood.py</span></a><span style=\"color: #7f7f7f; text-decoration-color: #7f7f7f\">:</span><a href=\"file:///opt/Miniconda3/envs/threeML/lib/python3.7/site-packages/threeML/classicMLE/joint_likelihood.py#1042\" target=\"_blank\"><span style=\"color: #7f7f7f; text-decoration-color: #7f7f7f\">1042</span></a>\n",
       "</pre>\n"
      ],
      "text/plain": [
       "\u001b[38;5;46m19:14:39\u001b[0m\u001b[38;5;46m \u001b[0m\u001b[38;5;49mINFO    \u001b[0m \u001b[1;38;5;251m set the minimizer to minuit                                            \u001b[0m\u001b[1;38;5;251m \u001b[0m\u001b]8;id=977049;file:///opt/Miniconda3/envs/threeML/lib/python3.7/site-packages/threeML/classicMLE/joint_likelihood.py\u001b\\\u001b[2mjoint_likelihood.py\u001b[0m\u001b]8;;\u001b\\\u001b[2m:\u001b[0m\u001b]8;id=902093;file:///opt/Miniconda3/envs/threeML/lib/python3.7/site-packages/threeML/classicMLE/joint_likelihood.py#1042\u001b\\\u001b[2m1042\u001b[0m\u001b]8;;\u001b\\\n"
      ]
     },
     "metadata": {},
     "output_type": "display_data"
    },
    {
     "data": {
      "text/html": [
       "<pre style=\"white-space:pre;overflow-x:auto;line-height:normal;font-family:Menlo,'DejaVu Sans Mono',consolas,'Courier New',monospace\"><span style=\"color: #00ff00; text-decoration-color: #00ff00\">         </span><span style=\"color: #af5fd7; text-decoration-color: #af5fd7\">WARNING </span> <span style=\"color: #c6c6c6; text-decoration-color: #c6c6c6; font-weight: bold\"> These parameters returned a logLike = Nan: [</span><span style=\"color: #c0c0c0; text-decoration-color: #c0c0c0; font-weight: bold\">-2.33667530e+09</span><span style=\"color: #c6c6c6; text-decoration-color: #c6c6c6; font-weight: bold\">             </span><a href=\"file:///opt/Miniconda3/envs/threeML/lib/python3.7/site-packages/threeML/classicMLE/joint_likelihood.py\" target=\"_blank\"><span style=\"color: #7f7f7f; text-decoration-color: #7f7f7f\">joint_likelihood.py</span></a><span style=\"color: #7f7f7f; text-decoration-color: #7f7f7f\">:</span><a href=\"file:///opt/Miniconda3/envs/threeML/lib/python3.7/site-packages/threeML/classicMLE/joint_likelihood.py#1004\" target=\"_blank\"><span style=\"color: #7f7f7f; text-decoration-color: #7f7f7f\">1004</span></a>\n",
       "<span style=\"color: #00ff00; text-decoration-color: #00ff00\">         </span>         <span style=\"color: #c0c0c0; text-decoration-color: #c0c0c0; font-weight: bold\">-1.36423297e+00</span><span style=\"color: #c6c6c6; text-decoration-color: #c6c6c6; font-weight: bold\">  </span><span style=\"color: #c0c0c0; text-decoration-color: #c0c0c0; font-weight: bold\">3.01413391e+03</span><span style=\"color: #c6c6c6; text-decoration-color: #c6c6c6; font-weight: bold\"> </span><span style=\"color: #c0c0c0; text-decoration-color: #c0c0c0; font-weight: bold\">-4.97603832e+00</span><span style=\"color: #c6c6c6; text-decoration-color: #c6c6c6; font-weight: bold\">]                         </span><span style=\"color: #7f7f7f; text-decoration-color: #7f7f7f\">                        </span>\n",
       "</pre>\n"
      ],
      "text/plain": [
       "\u001b[38;5;46m        \u001b[0m\u001b[38;5;46m \u001b[0m\u001b[38;5;134mWARNING \u001b[0m \u001b[1;38;5;251m These parameters returned a logLike = Nan: \u001b[0m\u001b[1;38;5;251m[\u001b[0m\u001b[1;37m-2.33667530e+09\u001b[0m\u001b[1;38;5;251m            \u001b[0m\u001b[1;38;5;251m \u001b[0m\u001b]8;id=651612;file:///opt/Miniconda3/envs/threeML/lib/python3.7/site-packages/threeML/classicMLE/joint_likelihood.py\u001b\\\u001b[2mjoint_likelihood.py\u001b[0m\u001b]8;;\u001b\\\u001b[2m:\u001b[0m\u001b]8;id=640166;file:///opt/Miniconda3/envs/threeML/lib/python3.7/site-packages/threeML/classicMLE/joint_likelihood.py#1004\u001b\\\u001b[2m1004\u001b[0m\u001b]8;;\u001b\\\n",
       "\u001b[38;5;46m         \u001b[0m         \u001b[1;37m-1.36423297e+00\u001b[0m\u001b[1;38;5;251m  \u001b[0m\u001b[1;37m3.01413391e+03\u001b[0m\u001b[1;38;5;251m \u001b[0m\u001b[1;37m-4.97603832e+00\u001b[0m\u001b[1;38;5;251m]\u001b[0m\u001b[1;38;5;251m                        \u001b[0m\u001b[1;38;5;251m \u001b[0m\u001b[2m                        \u001b[0m\n"
      ]
     },
     "metadata": {},
     "output_type": "display_data"
    },
    {
     "data": {
      "text/html": [
       "<pre style=\"white-space:pre;overflow-x:auto;line-height:normal;font-family:Menlo,'DejaVu Sans Mono',consolas,'Courier New',monospace\"><span style=\"color: #00ff00; text-decoration-color: #00ff00\">         </span><span style=\"color: #af5fd7; text-decoration-color: #af5fd7\">WARNING </span> <span style=\"color: #c6c6c6; text-decoration-color: #c6c6c6; font-weight: bold\"> These parameters returned a logLike = Nan: [</span><span style=\"color: #c0c0c0; text-decoration-color: #c0c0c0; font-weight: bold\">-9.55815858e+08</span><span style=\"color: #c6c6c6; text-decoration-color: #c6c6c6; font-weight: bold\">             </span><a href=\"file:///opt/Miniconda3/envs/threeML/lib/python3.7/site-packages/threeML/classicMLE/joint_likelihood.py\" target=\"_blank\"><span style=\"color: #7f7f7f; text-decoration-color: #7f7f7f\">joint_likelihood.py</span></a><span style=\"color: #7f7f7f; text-decoration-color: #7f7f7f\">:</span><a href=\"file:///opt/Miniconda3/envs/threeML/lib/python3.7/site-packages/threeML/classicMLE/joint_likelihood.py#1004\" target=\"_blank\"><span style=\"color: #7f7f7f; text-decoration-color: #7f7f7f\">1004</span></a>\n",
       "<span style=\"color: #00ff00; text-decoration-color: #00ff00\">         </span>         <span style=\"color: #c0c0c0; text-decoration-color: #c0c0c0; font-weight: bold\">-1.49169262e+00</span><span style=\"color: #c6c6c6; text-decoration-color: #c6c6c6; font-weight: bold\">  </span><span style=\"color: #c0c0c0; text-decoration-color: #c0c0c0; font-weight: bold\">2.01444898e+03</span><span style=\"color: #c6c6c6; text-decoration-color: #c6c6c6; font-weight: bold\"> </span><span style=\"color: #c0c0c0; text-decoration-color: #c0c0c0; font-weight: bold\">-4.78887949e+00</span><span style=\"color: #c6c6c6; text-decoration-color: #c6c6c6; font-weight: bold\">]                         </span><span style=\"color: #7f7f7f; text-decoration-color: #7f7f7f\">                        </span>\n",
       "</pre>\n"
      ],
      "text/plain": [
       "\u001b[38;5;46m        \u001b[0m\u001b[38;5;46m \u001b[0m\u001b[38;5;134mWARNING \u001b[0m \u001b[1;38;5;251m These parameters returned a logLike = Nan: \u001b[0m\u001b[1;38;5;251m[\u001b[0m\u001b[1;37m-9.55815858e+08\u001b[0m\u001b[1;38;5;251m            \u001b[0m\u001b[1;38;5;251m \u001b[0m\u001b]8;id=136907;file:///opt/Miniconda3/envs/threeML/lib/python3.7/site-packages/threeML/classicMLE/joint_likelihood.py\u001b\\\u001b[2mjoint_likelihood.py\u001b[0m\u001b]8;;\u001b\\\u001b[2m:\u001b[0m\u001b]8;id=39496;file:///opt/Miniconda3/envs/threeML/lib/python3.7/site-packages/threeML/classicMLE/joint_likelihood.py#1004\u001b\\\u001b[2m1004\u001b[0m\u001b]8;;\u001b\\\n",
       "\u001b[38;5;46m         \u001b[0m         \u001b[1;37m-1.49169262e+00\u001b[0m\u001b[1;38;5;251m  \u001b[0m\u001b[1;37m2.01444898e+03\u001b[0m\u001b[1;38;5;251m \u001b[0m\u001b[1;37m-4.78887949e+00\u001b[0m\u001b[1;38;5;251m]\u001b[0m\u001b[1;38;5;251m                        \u001b[0m\u001b[1;38;5;251m \u001b[0m\u001b[2m                        \u001b[0m\n"
      ]
     },
     "metadata": {},
     "output_type": "display_data"
    },
    {
     "data": {
      "text/html": [
       "<pre style=\"white-space:pre;overflow-x:auto;line-height:normal;font-family:Menlo,'DejaVu Sans Mono',consolas,'Courier New',monospace\"><span style=\"color: #00ff00; text-decoration-color: #00ff00\">         </span><span style=\"color: #af5fd7; text-decoration-color: #af5fd7\">WARNING </span> <span style=\"color: #c6c6c6; text-decoration-color: #c6c6c6; font-weight: bold\"> These parameters returned a logLike = Nan: [</span><span style=\"color: #c0c0c0; text-decoration-color: #c0c0c0; font-weight: bold\">-3.09612617e+08</span><span style=\"color: #c6c6c6; text-decoration-color: #c6c6c6; font-weight: bold\">             </span><a href=\"file:///opt/Miniconda3/envs/threeML/lib/python3.7/site-packages/threeML/classicMLE/joint_likelihood.py\" target=\"_blank\"><span style=\"color: #7f7f7f; text-decoration-color: #7f7f7f\">joint_likelihood.py</span></a><span style=\"color: #7f7f7f; text-decoration-color: #7f7f7f\">:</span><a href=\"file:///opt/Miniconda3/envs/threeML/lib/python3.7/site-packages/threeML/classicMLE/joint_likelihood.py#1004\" target=\"_blank\"><span style=\"color: #7f7f7f; text-decoration-color: #7f7f7f\">1004</span></a>\n",
       "<span style=\"color: #00ff00; text-decoration-color: #00ff00\">         </span>         <span style=\"color: #c0c0c0; text-decoration-color: #c0c0c0; font-weight: bold\">-1.20729996e+00</span><span style=\"color: #c6c6c6; text-decoration-color: #c6c6c6; font-weight: bold\">  </span><span style=\"color: #c0c0c0; text-decoration-color: #c0c0c0; font-weight: bold\">1.54662469e+03</span><span style=\"color: #c6c6c6; text-decoration-color: #c6c6c6; font-weight: bold\"> </span><span style=\"color: #c0c0c0; text-decoration-color: #c0c0c0; font-weight: bold\">-4.95569385e+00</span><span style=\"color: #c6c6c6; text-decoration-color: #c6c6c6; font-weight: bold\">]                         </span><span style=\"color: #7f7f7f; text-decoration-color: #7f7f7f\">                        </span>\n",
       "</pre>\n"
      ],
      "text/plain": [
       "\u001b[38;5;46m        \u001b[0m\u001b[38;5;46m \u001b[0m\u001b[38;5;134mWARNING \u001b[0m \u001b[1;38;5;251m These parameters returned a logLike = Nan: \u001b[0m\u001b[1;38;5;251m[\u001b[0m\u001b[1;37m-3.09612617e+08\u001b[0m\u001b[1;38;5;251m            \u001b[0m\u001b[1;38;5;251m \u001b[0m\u001b]8;id=599830;file:///opt/Miniconda3/envs/threeML/lib/python3.7/site-packages/threeML/classicMLE/joint_likelihood.py\u001b\\\u001b[2mjoint_likelihood.py\u001b[0m\u001b]8;;\u001b\\\u001b[2m:\u001b[0m\u001b]8;id=540996;file:///opt/Miniconda3/envs/threeML/lib/python3.7/site-packages/threeML/classicMLE/joint_likelihood.py#1004\u001b\\\u001b[2m1004\u001b[0m\u001b]8;;\u001b\\\n",
       "\u001b[38;5;46m         \u001b[0m         \u001b[1;37m-1.20729996e+00\u001b[0m\u001b[1;38;5;251m  \u001b[0m\u001b[1;37m1.54662469e+03\u001b[0m\u001b[1;38;5;251m \u001b[0m\u001b[1;37m-4.95569385e+00\u001b[0m\u001b[1;38;5;251m]\u001b[0m\u001b[1;38;5;251m                        \u001b[0m\u001b[1;38;5;251m \u001b[0m\u001b[2m                        \u001b[0m\n"
      ]
     },
     "metadata": {},
     "output_type": "display_data"
    },
    {
     "data": {
      "text/html": [
       "<pre style=\"white-space:pre;overflow-x:auto;line-height:normal;font-family:Menlo,'DejaVu Sans Mono',consolas,'Courier New',monospace\"><span style=\"color: #00ff00; text-decoration-color: #00ff00\">         </span><span style=\"color: #af5fd7; text-decoration-color: #af5fd7\">WARNING </span> <span style=\"color: #c6c6c6; text-decoration-color: #c6c6c6; font-weight: bold\"> These parameters returned a logLike = Nan: [</span><span style=\"color: #c0c0c0; text-decoration-color: #c0c0c0; font-weight: bold\">-5.78052697e+07</span><span style=\"color: #c6c6c6; text-decoration-color: #c6c6c6; font-weight: bold\">             </span><a href=\"file:///opt/Miniconda3/envs/threeML/lib/python3.7/site-packages/threeML/classicMLE/joint_likelihood.py\" target=\"_blank\"><span style=\"color: #7f7f7f; text-decoration-color: #7f7f7f\">joint_likelihood.py</span></a><span style=\"color: #7f7f7f; text-decoration-color: #7f7f7f\">:</span><a href=\"file:///opt/Miniconda3/envs/threeML/lib/python3.7/site-packages/threeML/classicMLE/joint_likelihood.py#1004\" target=\"_blank\"><span style=\"color: #7f7f7f; text-decoration-color: #7f7f7f\">1004</span></a>\n",
       "<span style=\"color: #00ff00; text-decoration-color: #00ff00\">         </span>         <span style=\"color: #c0c0c0; text-decoration-color: #c0c0c0; font-weight: bold\">2.91025335e+00</span><span style=\"color: #c6c6c6; text-decoration-color: #c6c6c6; font-weight: bold\">  </span><span style=\"color: #c0c0c0; text-decoration-color: #c0c0c0; font-weight: bold\">1.36432665e+03</span><span style=\"color: #c6c6c6; text-decoration-color: #c6c6c6; font-weight: bold\"> </span><span style=\"color: #c0c0c0; text-decoration-color: #c0c0c0; font-weight: bold\">-3.74671977e+00</span><span style=\"color: #c6c6c6; text-decoration-color: #c6c6c6; font-weight: bold\">]                          </span><span style=\"color: #7f7f7f; text-decoration-color: #7f7f7f\">                        </span>\n",
       "</pre>\n"
      ],
      "text/plain": [
       "\u001b[38;5;46m        \u001b[0m\u001b[38;5;46m \u001b[0m\u001b[38;5;134mWARNING \u001b[0m \u001b[1;38;5;251m These parameters returned a logLike = Nan: \u001b[0m\u001b[1;38;5;251m[\u001b[0m\u001b[1;37m-5.78052697e+07\u001b[0m\u001b[1;38;5;251m            \u001b[0m\u001b[1;38;5;251m \u001b[0m\u001b]8;id=973585;file:///opt/Miniconda3/envs/threeML/lib/python3.7/site-packages/threeML/classicMLE/joint_likelihood.py\u001b\\\u001b[2mjoint_likelihood.py\u001b[0m\u001b]8;;\u001b\\\u001b[2m:\u001b[0m\u001b]8;id=799556;file:///opt/Miniconda3/envs/threeML/lib/python3.7/site-packages/threeML/classicMLE/joint_likelihood.py#1004\u001b\\\u001b[2m1004\u001b[0m\u001b]8;;\u001b\\\n",
       "\u001b[38;5;46m         \u001b[0m         \u001b[1;37m2.91025335e+00\u001b[0m\u001b[1;38;5;251m  \u001b[0m\u001b[1;37m1.36432665e+03\u001b[0m\u001b[1;38;5;251m \u001b[0m\u001b[1;37m-3.74671977e+00\u001b[0m\u001b[1;38;5;251m]\u001b[0m\u001b[1;38;5;251m                         \u001b[0m\u001b[1;38;5;251m \u001b[0m\u001b[2m                        \u001b[0m\n"
      ]
     },
     "metadata": {},
     "output_type": "display_data"
    },
    {
     "data": {
      "text/html": [
       "<pre style=\"white-space:pre;overflow-x:auto;line-height:normal;font-family:Menlo,'DejaVu Sans Mono',consolas,'Courier New',monospace\"><span style=\"color: #00ff00; text-decoration-color: #00ff00\">         </span><span style=\"color: #af5fd7; text-decoration-color: #af5fd7\">WARNING </span> <span style=\"color: #c6c6c6; text-decoration-color: #c6c6c6; font-weight: bold\"> These parameters returned a logLike = Nan: [</span><span style=\"color: #c0c0c0; text-decoration-color: #c0c0c0; font-weight: bold\">-2.89375331e+06</span><span style=\"color: #c6c6c6; text-decoration-color: #c6c6c6; font-weight: bold\">             </span><a href=\"file:///opt/Miniconda3/envs/threeML/lib/python3.7/site-packages/threeML/classicMLE/joint_likelihood.py\" target=\"_blank\"><span style=\"color: #7f7f7f; text-decoration-color: #7f7f7f\">joint_likelihood.py</span></a><span style=\"color: #7f7f7f; text-decoration-color: #7f7f7f\">:</span><a href=\"file:///opt/Miniconda3/envs/threeML/lib/python3.7/site-packages/threeML/classicMLE/joint_likelihood.py#1004\" target=\"_blank\"><span style=\"color: #7f7f7f; text-decoration-color: #7f7f7f\">1004</span></a>\n",
       "<span style=\"color: #00ff00; text-decoration-color: #00ff00\">         </span>         <span style=\"color: #c0c0c0; text-decoration-color: #c0c0c0; font-weight: bold\">1.34571927e+00</span><span style=\"color: #c6c6c6; text-decoration-color: #c6c6c6; font-weight: bold\">  </span><span style=\"color: #c0c0c0; text-decoration-color: #c0c0c0; font-weight: bold\">1.32457300e+03</span><span style=\"color: #c6c6c6; text-decoration-color: #c6c6c6; font-weight: bold\"> </span><span style=\"color: #c0c0c0; text-decoration-color: #c0c0c0; font-weight: bold\">-2.17051559e+00</span><span style=\"color: #c6c6c6; text-decoration-color: #c6c6c6; font-weight: bold\">]                          </span><span style=\"color: #7f7f7f; text-decoration-color: #7f7f7f\">                        </span>\n",
       "</pre>\n"
      ],
      "text/plain": [
       "\u001b[38;5;46m        \u001b[0m\u001b[38;5;46m \u001b[0m\u001b[38;5;134mWARNING \u001b[0m \u001b[1;38;5;251m These parameters returned a logLike = Nan: \u001b[0m\u001b[1;38;5;251m[\u001b[0m\u001b[1;37m-2.89375331e+06\u001b[0m\u001b[1;38;5;251m            \u001b[0m\u001b[1;38;5;251m \u001b[0m\u001b]8;id=525717;file:///opt/Miniconda3/envs/threeML/lib/python3.7/site-packages/threeML/classicMLE/joint_likelihood.py\u001b\\\u001b[2mjoint_likelihood.py\u001b[0m\u001b]8;;\u001b\\\u001b[2m:\u001b[0m\u001b]8;id=908444;file:///opt/Miniconda3/envs/threeML/lib/python3.7/site-packages/threeML/classicMLE/joint_likelihood.py#1004\u001b\\\u001b[2m1004\u001b[0m\u001b]8;;\u001b\\\n",
       "\u001b[38;5;46m         \u001b[0m         \u001b[1;37m1.34571927e+00\u001b[0m\u001b[1;38;5;251m  \u001b[0m\u001b[1;37m1.32457300e+03\u001b[0m\u001b[1;38;5;251m \u001b[0m\u001b[1;37m-2.17051559e+00\u001b[0m\u001b[1;38;5;251m]\u001b[0m\u001b[1;38;5;251m                         \u001b[0m\u001b[1;38;5;251m \u001b[0m\u001b[2m                        \u001b[0m\n"
      ]
     },
     "metadata": {},
     "output_type": "display_data"
    },
    {
     "data": {
      "text/html": [
       "<pre style=\"white-space:pre;overflow-x:auto;line-height:normal;font-family:Menlo,'DejaVu Sans Mono',consolas,'Courier New',monospace\"><span style=\"color: #00ff00; text-decoration-color: #00ff00\">         </span><span style=\"color: #af5fd7; text-decoration-color: #af5fd7\">WARNING </span> <span style=\"color: #c6c6c6; text-decoration-color: #c6c6c6; font-weight: bold\"> These parameters returned a logLike = Nan: [</span><span style=\"color: #c0c0c0; text-decoration-color: #c0c0c0; font-weight: bold\">-1.44687647e+05</span><span style=\"color: #c6c6c6; text-decoration-color: #c6c6c6; font-weight: bold\">             </span><a href=\"file:///opt/Miniconda3/envs/threeML/lib/python3.7/site-packages/threeML/classicMLE/joint_likelihood.py\" target=\"_blank\"><span style=\"color: #7f7f7f; text-decoration-color: #7f7f7f\">joint_likelihood.py</span></a><span style=\"color: #7f7f7f; text-decoration-color: #7f7f7f\">:</span><a href=\"file:///opt/Miniconda3/envs/threeML/lib/python3.7/site-packages/threeML/classicMLE/joint_likelihood.py#1004\" target=\"_blank\"><span style=\"color: #7f7f7f; text-decoration-color: #7f7f7f\">1004</span></a>\n",
       "<span style=\"color: #00ff00; text-decoration-color: #00ff00\">         </span>         <span style=\"color: #c0c0c0; text-decoration-color: #c0c0c0; font-weight: bold\">2.94103920e+00</span><span style=\"color: #c6c6c6; text-decoration-color: #c6c6c6; font-weight: bold\">  </span><span style=\"color: #c0c0c0; text-decoration-color: #c0c0c0; font-weight: bold\">1.32258279e+03</span><span style=\"color: #c6c6c6; text-decoration-color: #c6c6c6; font-weight: bold\"> </span><span style=\"color: #c0c0c0; text-decoration-color: #c0c0c0; font-weight: bold\">-2.65333532e+00</span><span style=\"color: #c6c6c6; text-decoration-color: #c6c6c6; font-weight: bold\">]                          </span><span style=\"color: #7f7f7f; text-decoration-color: #7f7f7f\">                        </span>\n",
       "</pre>\n"
      ],
      "text/plain": [
       "\u001b[38;5;46m        \u001b[0m\u001b[38;5;46m \u001b[0m\u001b[38;5;134mWARNING \u001b[0m \u001b[1;38;5;251m These parameters returned a logLike = Nan: \u001b[0m\u001b[1;38;5;251m[\u001b[0m\u001b[1;37m-1.44687647e+05\u001b[0m\u001b[1;38;5;251m            \u001b[0m\u001b[1;38;5;251m \u001b[0m\u001b]8;id=452561;file:///opt/Miniconda3/envs/threeML/lib/python3.7/site-packages/threeML/classicMLE/joint_likelihood.py\u001b\\\u001b[2mjoint_likelihood.py\u001b[0m\u001b]8;;\u001b\\\u001b[2m:\u001b[0m\u001b]8;id=983399;file:///opt/Miniconda3/envs/threeML/lib/python3.7/site-packages/threeML/classicMLE/joint_likelihood.py#1004\u001b\\\u001b[2m1004\u001b[0m\u001b]8;;\u001b\\\n",
       "\u001b[38;5;46m         \u001b[0m         \u001b[1;37m2.94103920e+00\u001b[0m\u001b[1;38;5;251m  \u001b[0m\u001b[1;37m1.32258279e+03\u001b[0m\u001b[1;38;5;251m \u001b[0m\u001b[1;37m-2.65333532e+00\u001b[0m\u001b[1;38;5;251m]\u001b[0m\u001b[1;38;5;251m                         \u001b[0m\u001b[1;38;5;251m \u001b[0m\u001b[2m                        \u001b[0m\n"
      ]
     },
     "metadata": {},
     "output_type": "display_data"
    },
    {
     "data": {
      "text/html": [
       "<pre style=\"white-space:pre;overflow-x:auto;line-height:normal;font-family:Menlo,'DejaVu Sans Mono',consolas,'Courier New',monospace\"><span style=\"color: #00ff00; text-decoration-color: #00ff00\">         </span><span style=\"color: #af5fd7; text-decoration-color: #af5fd7\">WARNING </span> <span style=\"color: #c6c6c6; text-decoration-color: #c6c6c6; font-weight: bold\"> These parameters returned a logLike = Nan: [</span><span style=\"color: #c0c0c0; text-decoration-color: #c0c0c0; font-weight: bold\">-7.23436375e+03</span><span style=\"color: #c6c6c6; text-decoration-color: #c6c6c6; font-weight: bold\">             </span><a href=\"file:///opt/Miniconda3/envs/threeML/lib/python3.7/site-packages/threeML/classicMLE/joint_likelihood.py\" target=\"_blank\"><span style=\"color: #7f7f7f; text-decoration-color: #7f7f7f\">joint_likelihood.py</span></a><span style=\"color: #7f7f7f; text-decoration-color: #7f7f7f\">:</span><a href=\"file:///opt/Miniconda3/envs/threeML/lib/python3.7/site-packages/threeML/classicMLE/joint_likelihood.py#1004\" target=\"_blank\"><span style=\"color: #7f7f7f; text-decoration-color: #7f7f7f\">1004</span></a>\n",
       "<span style=\"color: #00ff00; text-decoration-color: #00ff00\">         </span>         <span style=\"color: #c0c0c0; text-decoration-color: #c0c0c0; font-weight: bold\">2.37043777e+00</span><span style=\"color: #c6c6c6; text-decoration-color: #c6c6c6; font-weight: bold\">  </span><span style=\"color: #c0c0c0; text-decoration-color: #c0c0c0; font-weight: bold\">1.32248328e+03</span><span style=\"color: #c6c6c6; text-decoration-color: #c6c6c6; font-weight: bold\"> </span><span style=\"color: #c0c0c0; text-decoration-color: #c0c0c0; font-weight: bold\">-1.89995460e+00</span><span style=\"color: #c6c6c6; text-decoration-color: #c6c6c6; font-weight: bold\">]                          </span><span style=\"color: #7f7f7f; text-decoration-color: #7f7f7f\">                        </span>\n",
       "</pre>\n"
      ],
      "text/plain": [
       "\u001b[38;5;46m        \u001b[0m\u001b[38;5;46m \u001b[0m\u001b[38;5;134mWARNING \u001b[0m \u001b[1;38;5;251m These parameters returned a logLike = Nan: \u001b[0m\u001b[1;38;5;251m[\u001b[0m\u001b[1;37m-7.23436375e+03\u001b[0m\u001b[1;38;5;251m            \u001b[0m\u001b[1;38;5;251m \u001b[0m\u001b]8;id=445196;file:///opt/Miniconda3/envs/threeML/lib/python3.7/site-packages/threeML/classicMLE/joint_likelihood.py\u001b\\\u001b[2mjoint_likelihood.py\u001b[0m\u001b]8;;\u001b\\\u001b[2m:\u001b[0m\u001b]8;id=99907;file:///opt/Miniconda3/envs/threeML/lib/python3.7/site-packages/threeML/classicMLE/joint_likelihood.py#1004\u001b\\\u001b[2m1004\u001b[0m\u001b]8;;\u001b\\\n",
       "\u001b[38;5;46m         \u001b[0m         \u001b[1;37m2.37043777e+00\u001b[0m\u001b[1;38;5;251m  \u001b[0m\u001b[1;37m1.32248328e+03\u001b[0m\u001b[1;38;5;251m \u001b[0m\u001b[1;37m-1.89995460e+00\u001b[0m\u001b[1;38;5;251m]\u001b[0m\u001b[1;38;5;251m                         \u001b[0m\u001b[1;38;5;251m \u001b[0m\u001b[2m                        \u001b[0m\n"
      ]
     },
     "metadata": {},
     "output_type": "display_data"
    },
    {
     "data": {
      "text/html": [
       "<pre style=\"white-space:pre;overflow-x:auto;line-height:normal;font-family:Menlo,'DejaVu Sans Mono',consolas,'Courier New',monospace\"><span style=\"color: #00ff00; text-decoration-color: #00ff00\">         </span><span style=\"color: #af5fd7; text-decoration-color: #af5fd7\">WARNING </span> <span style=\"color: #c6c6c6; text-decoration-color: #c6c6c6; font-weight: bold\"> </span><span style=\"color: #c0c0c0; text-decoration-color: #c0c0c0; font-weight: bold\">24.98</span><span style=\"color: #c6c6c6; text-decoration-color: #c6c6c6; font-weight: bold\"> percent of samples have been thrown away because they failed the  </span><a href=\"file:///opt/Miniconda3/envs/threeML/lib/python3.7/site-packages/threeML/analysis_results.py\" target=\"_blank\"><span style=\"color: #7f7f7f; text-decoration-color: #7f7f7f\">analysis_results.py</span></a><span style=\"color: #7f7f7f; text-decoration-color: #7f7f7f\">:</span><a href=\"file:///opt/Miniconda3/envs/threeML/lib/python3.7/site-packages/threeML/analysis_results.py#1791\" target=\"_blank\"><span style=\"color: #7f7f7f; text-decoration-color: #7f7f7f\">1791</span></a>\n",
       "<span style=\"color: #00ff00; text-decoration-color: #00ff00\">         </span>         <span style=\"color: #c6c6c6; text-decoration-color: #c6c6c6; font-weight: bold\">constraints on the parameters. This results might not be suitable for    </span><span style=\"color: #7f7f7f; text-decoration-color: #7f7f7f\">                        </span>\n",
       "<span style=\"color: #00ff00; text-decoration-color: #00ff00\">         </span>         <span style=\"color: #c6c6c6; text-decoration-color: #c6c6c6; font-weight: bold\">error propagation. Enlarge the boundaries until you loose less than </span><span style=\"color: #c0c0c0; text-decoration-color: #c0c0c0; font-weight: bold\">1</span><span style=\"color: #c6c6c6; text-decoration-color: #c6c6c6; font-weight: bold\">    </span><span style=\"color: #7f7f7f; text-decoration-color: #7f7f7f\">                        </span>\n",
       "<span style=\"color: #00ff00; text-decoration-color: #00ff00\">         </span>         <span style=\"color: #c6c6c6; text-decoration-color: #c6c6c6; font-weight: bold\">percent of the samples.                                                  </span><span style=\"color: #7f7f7f; text-decoration-color: #7f7f7f\">                        </span>\n",
       "</pre>\n"
      ],
      "text/plain": [
       "\u001b[38;5;46m        \u001b[0m\u001b[38;5;46m \u001b[0m\u001b[38;5;134mWARNING \u001b[0m \u001b[1;38;5;251m \u001b[0m\u001b[1;37m24.98\u001b[0m\u001b[1;38;5;251m percent of samples have been thrown away because they failed the \u001b[0m\u001b[1;38;5;251m \u001b[0m\u001b]8;id=482461;file:///opt/Miniconda3/envs/threeML/lib/python3.7/site-packages/threeML/analysis_results.py\u001b\\\u001b[2manalysis_results.py\u001b[0m\u001b]8;;\u001b\\\u001b[2m:\u001b[0m\u001b]8;id=410021;file:///opt/Miniconda3/envs/threeML/lib/python3.7/site-packages/threeML/analysis_results.py#1791\u001b\\\u001b[2m1791\u001b[0m\u001b]8;;\u001b\\\n",
       "\u001b[38;5;46m         \u001b[0m         \u001b[1;38;5;251mconstraints on the parameters. This results might not be suitable for   \u001b[0m\u001b[1;38;5;251m \u001b[0m\u001b[2m                        \u001b[0m\n",
       "\u001b[38;5;46m         \u001b[0m         \u001b[1;38;5;251merror propagation. Enlarge the boundaries until you loose less than \u001b[0m\u001b[1;37m1\u001b[0m\u001b[1;38;5;251m   \u001b[0m\u001b[1;38;5;251m \u001b[0m\u001b[2m                        \u001b[0m\n",
       "\u001b[38;5;46m         \u001b[0m         \u001b[1;38;5;251mpercent of the samples.                                                 \u001b[0m\u001b[1;38;5;251m \u001b[0m\u001b[2m                        \u001b[0m\n"
      ]
     },
     "metadata": {},
     "output_type": "display_data"
    },
    {
     "name": "stdout",
     "output_type": "stream",
     "text": [
      "Best fit values:\n",
      "\n"
     ]
    },
    {
     "data": {
      "text/html": [
       "<div>\n",
       "<style scoped>\n",
       "    .dataframe tbody tr th:only-of-type {\n",
       "        vertical-align: middle;\n",
       "    }\n",
       "\n",
       "    .dataframe tbody tr th {\n",
       "        vertical-align: top;\n",
       "    }\n",
       "\n",
       "    .dataframe thead th {\n",
       "        text-align: right;\n",
       "    }\n",
       "</style>\n",
       "<table border=\"1\" class=\"dataframe\">\n",
       "  <thead>\n",
       "    <tr style=\"text-align: right;\">\n",
       "      <th></th>\n",
       "      <th>result</th>\n",
       "      <th>unit</th>\n",
       "    </tr>\n",
       "    <tr>\n",
       "      <th>parameter</th>\n",
       "      <th></th>\n",
       "      <th></th>\n",
       "    </tr>\n",
       "  </thead>\n",
       "  <tbody>\n",
       "    <tr>\n",
       "      <th>joint_fit_no_eac.spectrum.main.Band.K</th>\n",
       "      <td>(2.62 +/- 0.20) x 10^-2</td>\n",
       "      <td>1 / (cm2 keV s)</td>\n",
       "    </tr>\n",
       "    <tr>\n",
       "      <th>joint_fit_no_eac.spectrum.main.Band.alpha</th>\n",
       "      <td>(-7.0 +/- 0.6) x 10^-1</td>\n",
       "      <td></td>\n",
       "    </tr>\n",
       "    <tr>\n",
       "      <th>joint_fit_no_eac.spectrum.main.Band.xp</th>\n",
       "      <td>(4.9 +/- 0.9) x 10^2</td>\n",
       "      <td>keV</td>\n",
       "    </tr>\n",
       "    <tr>\n",
       "      <th>joint_fit_no_eac.spectrum.main.Band.beta</th>\n",
       "      <td>-1.74 +/- 0.21</td>\n",
       "      <td></td>\n",
       "    </tr>\n",
       "  </tbody>\n",
       "</table>\n",
       "</div>"
      ],
      "text/plain": [
       "                                                            result  \\\n",
       "parameter                                                            \n",
       "joint_fit_no_eac.spectrum.main.Band.K      (2.62 +/- 0.20) x 10^-2   \n",
       "joint_fit_no_eac.spectrum.main.Band.alpha   (-7.0 +/- 0.6) x 10^-1   \n",
       "joint_fit_no_eac.spectrum.main.Band.xp        (4.9 +/- 0.9) x 10^2   \n",
       "joint_fit_no_eac.spectrum.main.Band.beta            -1.74 +/- 0.21   \n",
       "\n",
       "                                                      unit  \n",
       "parameter                                                   \n",
       "joint_fit_no_eac.spectrum.main.Band.K      1 / (cm2 keV s)  \n",
       "joint_fit_no_eac.spectrum.main.Band.alpha                   \n",
       "joint_fit_no_eac.spectrum.main.Band.xp                 keV  \n",
       "joint_fit_no_eac.spectrum.main.Band.beta                    "
      ]
     },
     "metadata": {},
     "output_type": "display_data"
    },
    {
     "name": "stdout",
     "output_type": "stream",
     "text": [
      "\n",
      "Correlation matrix:\n",
      "\n"
     ]
    },
    {
     "data": {
      "text/html": [
       "<div><table id=\"table139333283608336\">\n",
       "<tr><td>1.00</td><td>0.89</td><td>-0.95</td><td>0.48</td></tr>\n",
       "<tr><td>0.89</td><td>1.00</td><td>-0.85</td><td>0.35</td></tr>\n",
       "<tr><td>-0.95</td><td>-0.85</td><td>1.00</td><td>-0.67</td></tr>\n",
       "<tr><td>0.48</td><td>0.35</td><td>-0.67</td><td>1.00</td></tr>\n",
       "</table></div>"
      ],
      "text/plain": [
       " 1.00  0.89 -0.95  0.48\n",
       " 0.89  1.00 -0.85  0.35\n",
       "-0.95 -0.85  1.00 -0.67\n",
       " 0.48  0.35 -0.67  1.00"
      ]
     },
     "metadata": {},
     "output_type": "display_data"
    },
    {
     "name": "stdout",
     "output_type": "stream",
     "text": [
      "\n",
      "Values of -log(likelihood) at the minimum:\n",
      "\n"
     ]
    },
    {
     "data": {
      "text/html": [
       "<div>\n",
       "<style scoped>\n",
       "    .dataframe tbody tr th:only-of-type {\n",
       "        vertical-align: middle;\n",
       "    }\n",
       "\n",
       "    .dataframe tbody tr th {\n",
       "        vertical-align: top;\n",
       "    }\n",
       "\n",
       "    .dataframe thead th {\n",
       "        text-align: right;\n",
       "    }\n",
       "</style>\n",
       "<table border=\"1\" class=\"dataframe\">\n",
       "  <thead>\n",
       "    <tr style=\"text-align: right;\">\n",
       "      <th></th>\n",
       "      <th>-log(likelihood)</th>\n",
       "    </tr>\n",
       "  </thead>\n",
       "  <tbody>\n",
       "    <tr>\n",
       "      <th>n9</th>\n",
       "      <td>477.902302</td>\n",
       "    </tr>\n",
       "    <tr>\n",
       "      <th>na</th>\n",
       "      <td>449.080689</td>\n",
       "    </tr>\n",
       "    <tr>\n",
       "      <th>nb</th>\n",
       "      <td>492.168270</td>\n",
       "    </tr>\n",
       "    <tr>\n",
       "      <th>total</th>\n",
       "      <td>1419.151262</td>\n",
       "    </tr>\n",
       "  </tbody>\n",
       "</table>\n",
       "</div>"
      ],
      "text/plain": [
       "       -log(likelihood)\n",
       "n9           477.902302\n",
       "na           449.080689\n",
       "nb           492.168270\n",
       "total       1419.151262"
      ]
     },
     "metadata": {},
     "output_type": "display_data"
    },
    {
     "name": "stdout",
     "output_type": "stream",
     "text": [
      "\n",
      "Values of statistical measures:\n",
      "\n"
     ]
    },
    {
     "data": {
      "text/html": [
       "<div>\n",
       "<style scoped>\n",
       "    .dataframe tbody tr th:only-of-type {\n",
       "        vertical-align: middle;\n",
       "    }\n",
       "\n",
       "    .dataframe tbody tr th {\n",
       "        vertical-align: top;\n",
       "    }\n",
       "\n",
       "    .dataframe thead th {\n",
       "        text-align: right;\n",
       "    }\n",
       "</style>\n",
       "<table border=\"1\" class=\"dataframe\">\n",
       "  <thead>\n",
       "    <tr style=\"text-align: right;\">\n",
       "      <th></th>\n",
       "      <th>statistical measures</th>\n",
       "    </tr>\n",
       "  </thead>\n",
       "  <tbody>\n",
       "    <tr>\n",
       "      <th>AIC</th>\n",
       "      <td>2846.418802</td>\n",
       "    </tr>\n",
       "    <tr>\n",
       "      <th>BIC</th>\n",
       "      <td>2861.722811</td>\n",
       "    </tr>\n",
       "  </tbody>\n",
       "</table>\n",
       "</div>"
      ],
      "text/plain": [
       "     statistical measures\n",
       "AIC           2846.418802\n",
       "BIC           2861.722811"
      ]
     },
     "metadata": {},
     "output_type": "display_data"
    }
   ],
   "source": [
    "band = Band()\n",
    "\n",
    "model_no_eac_band = Model(PointSource(\"joint_fit_no_eac\", ra, dec, spectral_shape=band))\n",
    "jl_no_eac_band = JointLikelihood(model_no_eac_band, data_list)\n",
    "\n",
    "jl_no_eac_band.fit();\n"
   ]
  },
  {
   "cell_type": "code",
   "execution_count": null,
   "id": "26a08c1d",
   "metadata": {},
   "outputs": [],
   "source": [
    "\n",
    "threeML_config.plugins.ogip.fit_plot.model_cmap = \"Set1\"\n",
    "threeML_config.plugins.ogip.fit_plot.n_colors = 6\n",
    "display_spectrum_model_counts(jl_no_eac_band, step=False, show_residuals = True ,source_only = True,show_background = False,data_colors=[\"grey\", \"k\", \"k\",\"k\", \"green\",\"red\"]\n",
    ")"
   ]
  },
  {
   "cell_type": "code",
   "execution_count": null,
   "id": "20bb9cdb",
   "metadata": {},
   "outputs": [],
   "source": [
    "plot_spectra(\n",
    "    jl_no_eac_band.results,\n",
    "    ene_min = 0.1,\n",
    "    ene_max = 1e7,\n",
    "    fit_cmap=\"Set1\",\n",
    "    contour_cmap=\"Set1\",\n",
    "    flux_unit=\"erg2/(keV s cm2)\",\n",
    "    y_limit = \"10^(-19), 10^(-12)\",\n",
    "    equal_tailed=True,\n",
    "    use_components = True,\n",
    ")\n",
    "plt.ylim(10e-19, 10e-14)\n",
    "# plt.show()"
   ]
  },
  {
   "cell_type": "code",
   "execution_count": null,
   "id": "ba85558f",
   "metadata": {},
   "outputs": [],
   "source": [
    "babb = Band() + Blackbody()\n",
    "# babb.K_2.bounds = (1e-4, 1e-1)\n",
    "babb.kT_2.bounds = (7,40)\n",
    "# babb.K_1 = 3.44*10e-2\n",
    "babb.alpha_1.bounds = (-1.0, -0.4)\n",
    "# babb.xp_1  = 4.96* 10e2\n",
    "# babb.beta_1 = -2.72 \n",
    "# babb.K_2 = 1.47 * 10e-5  \n",
    "# babb.kT_2 = 38.1\n",
    "model_no_eac_babb = Model(PointSource(\"joint_fit_no_eac\", ra, dec, spectral_shape=babb))\n",
    "\n",
    "jl_no_eac_babb = JointLikelihood(model_no_eac_babb, data_list)\n",
    "\n",
    "jl_no_eac_babb.fit();\n",
    "\n"
   ]
  },
  {
   "cell_type": "code",
   "execution_count": null,
   "id": "690e0fad",
   "metadata": {},
   "outputs": [],
   "source": [
    "threeML_config.plugins.ogip.fit_plot.model_cmap = \"Set1\"\n",
    "threeML_config.plugins.ogip.fit_plot.n_colors = 6\n",
    "display_spectrum_model_counts(\n",
    "    jl_no_eac_babb, step=False, show_residuals = True ,source_only = True,show_background = False,data_colors=[\"grey\", \"k\", \"k\",\"k\", \"green\",\"red\"]\n",
    ")"
   ]
  },
  {
   "cell_type": "code",
   "execution_count": null,
   "id": "88652c69",
   "metadata": {},
   "outputs": [],
   "source": [
    "plot_spectra(\n",
    "    jl_no_eac_babb.results,\n",
    "    ene_min = 0.1,\n",
    "    ene_max = 1e7,\n",
    "    fit_cmap=\"Set1\",\n",
    "    contour_cmap=\"Set1\",\n",
    "    flux_unit=\"erg2/(keV s cm2)\",\n",
    "    # x_limit=\"10, 10e3\",  # Set custom x-axis limits\n",
    "    y_limit = \"10^(-19), 10^(-14)\",\n",
    "    use_components = True,\n",
    "    components_to_use = ['total', 'Band', 'Blackbody'],\n",
    "    equal_tailed=True,\n",
    ")\n",
    "\n",
    "# plt.xlim(10, 10e3)\n",
    "plt.ylim(10e-19, 10e-14)\n",
    "# plt.savefig('Band_bb')\n",
    "plt.show()\n",
    "\n",
    "plot_spectra(\n",
    "    jl_no_eac_babb.results,\n",
    "    ene_min = 0.1,\n",
    "    ene_max = 1e7,\n",
    "    fit_cmap=\"Set1\",\n",
    "    contour_cmap=\"Set1\",\n",
    "    flux_unit=\"erg2/(keV s cm2)\",\n",
    "    y_limit = \"10^(-19), 10^(-14)\",\n",
    "    # x_limit=\"10, 10e3\",  # Set custom x-axis limits\n",
    "    # y_limit = \"0.5^(-17), 10^(-12)\",\n",
    "    use_components = False,\n",
    "    # components_to_use = ['total', 'Band', 'Blackbody'],\n",
    "    equal_tailed=True,\n",
    ")\n",
    "\n",
    "# # plt.xlim(10, 10e3)\n",
    "plt.ylim(10e-19, 10e-14)\n",
    "# plt.savefig('Band_bb')\n",
    "plt.show()"
   ]
  },
  {
   "cell_type": "code",
   "execution_count": 26,
   "id": "07973080",
   "metadata": {
    "scrolled": true
   },
   "outputs": [
    {
     "data": {
      "text/html": [
       "<pre style=\"white-space:pre;overflow-x:auto;line-height:normal;font-family:Menlo,'DejaVu Sans Mono',consolas,'Courier New',monospace\"><span style=\"color: #00ff00; text-decoration-color: #00ff00\">19:01:07 </span><span style=\"color: #00ffaf; text-decoration-color: #00ffaf\">INFO    </span> <span style=\"color: #c6c6c6; text-decoration-color: #c6c6c6; font-weight: bold\"> n9 is using effective area correction (between </span><span style=\"color: #c0c0c0; text-decoration-color: #c0c0c0; font-weight: bold\">0.1</span><span style=\"color: #c6c6c6; text-decoration-color: #c6c6c6; font-weight: bold\"> and </span><span style=\"color: #c0c0c0; text-decoration-color: #c0c0c0; font-weight: bold\">2.0</span><span style=\"color: #c6c6c6; text-decoration-color: #c6c6c6; font-weight: bold\">)                 </span><a href=\"file:///opt/Miniconda3/envs/threeML/lib/python3.7/site-packages/threeML/plugins/SpectrumLike.py\" target=\"_blank\"><span style=\"color: #7f7f7f; text-decoration-color: #7f7f7f\">SpectrumLike.py</span></a><span style=\"color: #7f7f7f; text-decoration-color: #7f7f7f\">:</span><a href=\"file:///opt/Miniconda3/envs/threeML/lib/python3.7/site-packages/threeML/plugins/SpectrumLike.py#2232\" target=\"_blank\"><span style=\"color: #7f7f7f; text-decoration-color: #7f7f7f\">2232</span></a>\n",
       "</pre>\n"
      ],
      "text/plain": [
       "\u001b[38;5;46m19:01:07\u001b[0m\u001b[38;5;46m \u001b[0m\u001b[38;5;49mINFO    \u001b[0m \u001b[1;38;5;251m n9 is using effective area correction \u001b[0m\u001b[1;38;5;251m(\u001b[0m\u001b[1;38;5;251mbetween \u001b[0m\u001b[1;37m0.1\u001b[0m\u001b[1;38;5;251m and \u001b[0m\u001b[1;37m2.0\u001b[0m\u001b[1;38;5;251m)\u001b[0m\u001b[1;38;5;251m                \u001b[0m\u001b[1;38;5;251m \u001b[0m\u001b]8;id=405576;file:///opt/Miniconda3/envs/threeML/lib/python3.7/site-packages/threeML/plugins/SpectrumLike.py\u001b\\\u001b[2mSpectrumLike.py\u001b[0m\u001b]8;;\u001b\\\u001b[2m:\u001b[0m\u001b]8;id=187107;file:///opt/Miniconda3/envs/threeML/lib/python3.7/site-packages/threeML/plugins/SpectrumLike.py#2232\u001b\\\u001b[2m2232\u001b[0m\u001b]8;;\u001b\\\n"
      ]
     },
     "metadata": {},
     "output_type": "display_data"
    },
    {
     "data": {
      "text/html": [
       "<pre style=\"white-space:pre;overflow-x:auto;line-height:normal;font-family:Menlo,'DejaVu Sans Mono',consolas,'Courier New',monospace\"><span style=\"color: #00ff00; text-decoration-color: #00ff00\">         </span><span style=\"color: #00ffaf; text-decoration-color: #00ffaf\">INFO    </span> <span style=\"color: #c6c6c6; text-decoration-color: #c6c6c6; font-weight: bold\"> na is using effective area correction (between </span><span style=\"color: #c0c0c0; text-decoration-color: #c0c0c0; font-weight: bold\">0.1</span><span style=\"color: #c6c6c6; text-decoration-color: #c6c6c6; font-weight: bold\"> and </span><span style=\"color: #c0c0c0; text-decoration-color: #c0c0c0; font-weight: bold\">2.0</span><span style=\"color: #c6c6c6; text-decoration-color: #c6c6c6; font-weight: bold\">)                 </span><a href=\"file:///opt/Miniconda3/envs/threeML/lib/python3.7/site-packages/threeML/plugins/SpectrumLike.py\" target=\"_blank\"><span style=\"color: #7f7f7f; text-decoration-color: #7f7f7f\">SpectrumLike.py</span></a><span style=\"color: #7f7f7f; text-decoration-color: #7f7f7f\">:</span><a href=\"file:///opt/Miniconda3/envs/threeML/lib/python3.7/site-packages/threeML/plugins/SpectrumLike.py#2232\" target=\"_blank\"><span style=\"color: #7f7f7f; text-decoration-color: #7f7f7f\">2232</span></a>\n",
       "</pre>\n"
      ],
      "text/plain": [
       "\u001b[38;5;46m        \u001b[0m\u001b[38;5;46m \u001b[0m\u001b[38;5;49mINFO    \u001b[0m \u001b[1;38;5;251m na is using effective area correction \u001b[0m\u001b[1;38;5;251m(\u001b[0m\u001b[1;38;5;251mbetween \u001b[0m\u001b[1;37m0.1\u001b[0m\u001b[1;38;5;251m and \u001b[0m\u001b[1;37m2.0\u001b[0m\u001b[1;38;5;251m)\u001b[0m\u001b[1;38;5;251m                \u001b[0m\u001b[1;38;5;251m \u001b[0m\u001b]8;id=161335;file:///opt/Miniconda3/envs/threeML/lib/python3.7/site-packages/threeML/plugins/SpectrumLike.py\u001b\\\u001b[2mSpectrumLike.py\u001b[0m\u001b]8;;\u001b\\\u001b[2m:\u001b[0m\u001b]8;id=878779;file:///opt/Miniconda3/envs/threeML/lib/python3.7/site-packages/threeML/plugins/SpectrumLike.py#2232\u001b\\\u001b[2m2232\u001b[0m\u001b]8;;\u001b\\\n"
      ]
     },
     "metadata": {},
     "output_type": "display_data"
    },
    {
     "data": {
      "text/html": [
       "<pre style=\"white-space:pre;overflow-x:auto;line-height:normal;font-family:Menlo,'DejaVu Sans Mono',consolas,'Courier New',monospace\"><span style=\"color: #00ff00; text-decoration-color: #00ff00\">         </span><span style=\"color: #00ffaf; text-decoration-color: #00ffaf\">INFO    </span> <span style=\"color: #c6c6c6; text-decoration-color: #c6c6c6; font-weight: bold\"> set the minimizer to minuit                                             </span><a href=\"file:///opt/Miniconda3/envs/threeML/lib/python3.7/site-packages/threeML/classicMLE/joint_likelihood.py\" target=\"_blank\"><span style=\"color: #7f7f7f; text-decoration-color: #7f7f7f\">joint_likelihood.py</span></a><span style=\"color: #7f7f7f; text-decoration-color: #7f7f7f\">:</span><a href=\"file:///opt/Miniconda3/envs/threeML/lib/python3.7/site-packages/threeML/classicMLE/joint_likelihood.py#1042\" target=\"_blank\"><span style=\"color: #7f7f7f; text-decoration-color: #7f7f7f\">1042</span></a>\n",
       "</pre>\n"
      ],
      "text/plain": [
       "\u001b[38;5;46m        \u001b[0m\u001b[38;5;46m \u001b[0m\u001b[38;5;49mINFO    \u001b[0m \u001b[1;38;5;251m set the minimizer to minuit                                            \u001b[0m\u001b[1;38;5;251m \u001b[0m\u001b]8;id=432469;file:///opt/Miniconda3/envs/threeML/lib/python3.7/site-packages/threeML/classicMLE/joint_likelihood.py\u001b\\\u001b[2mjoint_likelihood.py\u001b[0m\u001b]8;;\u001b\\\u001b[2m:\u001b[0m\u001b]8;id=270188;file:///opt/Miniconda3/envs/threeML/lib/python3.7/site-packages/threeML/classicMLE/joint_likelihood.py#1042\u001b\\\u001b[2m1042\u001b[0m\u001b]8;;\u001b\\\n"
      ]
     },
     "metadata": {},
     "output_type": "display_data"
    },
    {
     "data": {
      "text/html": [
       "<pre style=\"white-space:pre;overflow-x:auto;line-height:normal;font-family:Menlo,'DejaVu Sans Mono',consolas,'Courier New',monospace\"><span style=\"color: #00ff00; text-decoration-color: #00ff00\">         </span><span style=\"color: #af5fd7; text-decoration-color: #af5fd7\">WARNING </span> <span style=\"color: #c6c6c6; text-decoration-color: #c6c6c6; font-weight: bold\"> </span><span style=\"color: #c0c0c0; text-decoration-color: #c0c0c0; font-weight: bold\">5.74</span><span style=\"color: #c6c6c6; text-decoration-color: #c6c6c6; font-weight: bold\"> percent of samples have been thrown away because they failed the   </span><a href=\"file:///opt/Miniconda3/envs/threeML/lib/python3.7/site-packages/threeML/analysis_results.py\" target=\"_blank\"><span style=\"color: #7f7f7f; text-decoration-color: #7f7f7f\">analysis_results.py</span></a><span style=\"color: #7f7f7f; text-decoration-color: #7f7f7f\">:</span><a href=\"file:///opt/Miniconda3/envs/threeML/lib/python3.7/site-packages/threeML/analysis_results.py#1791\" target=\"_blank\"><span style=\"color: #7f7f7f; text-decoration-color: #7f7f7f\">1791</span></a>\n",
       "<span style=\"color: #00ff00; text-decoration-color: #00ff00\">         </span>         <span style=\"color: #c6c6c6; text-decoration-color: #c6c6c6; font-weight: bold\">constraints on the parameters. This results might not be suitable for    </span><span style=\"color: #7f7f7f; text-decoration-color: #7f7f7f\">                        </span>\n",
       "<span style=\"color: #00ff00; text-decoration-color: #00ff00\">         </span>         <span style=\"color: #c6c6c6; text-decoration-color: #c6c6c6; font-weight: bold\">error propagation. Enlarge the boundaries until you loose less than </span><span style=\"color: #c0c0c0; text-decoration-color: #c0c0c0; font-weight: bold\">1</span><span style=\"color: #c6c6c6; text-decoration-color: #c6c6c6; font-weight: bold\">    </span><span style=\"color: #7f7f7f; text-decoration-color: #7f7f7f\">                        </span>\n",
       "<span style=\"color: #00ff00; text-decoration-color: #00ff00\">         </span>         <span style=\"color: #c6c6c6; text-decoration-color: #c6c6c6; font-weight: bold\">percent of the samples.                                                  </span><span style=\"color: #7f7f7f; text-decoration-color: #7f7f7f\">                        </span>\n",
       "</pre>\n"
      ],
      "text/plain": [
       "\u001b[38;5;46m        \u001b[0m\u001b[38;5;46m \u001b[0m\u001b[38;5;134mWARNING \u001b[0m \u001b[1;38;5;251m \u001b[0m\u001b[1;37m5.74\u001b[0m\u001b[1;38;5;251m percent of samples have been thrown away because they failed the  \u001b[0m\u001b[1;38;5;251m \u001b[0m\u001b]8;id=228945;file:///opt/Miniconda3/envs/threeML/lib/python3.7/site-packages/threeML/analysis_results.py\u001b\\\u001b[2manalysis_results.py\u001b[0m\u001b]8;;\u001b\\\u001b[2m:\u001b[0m\u001b]8;id=521944;file:///opt/Miniconda3/envs/threeML/lib/python3.7/site-packages/threeML/analysis_results.py#1791\u001b\\\u001b[2m1791\u001b[0m\u001b]8;;\u001b\\\n",
       "\u001b[38;5;46m         \u001b[0m         \u001b[1;38;5;251mconstraints on the parameters. This results might not be suitable for   \u001b[0m\u001b[1;38;5;251m \u001b[0m\u001b[2m                        \u001b[0m\n",
       "\u001b[38;5;46m         \u001b[0m         \u001b[1;38;5;251merror propagation. Enlarge the boundaries until you loose less than \u001b[0m\u001b[1;37m1\u001b[0m\u001b[1;38;5;251m   \u001b[0m\u001b[1;38;5;251m \u001b[0m\u001b[2m                        \u001b[0m\n",
       "\u001b[38;5;46m         \u001b[0m         \u001b[1;38;5;251mpercent of the samples.                                                 \u001b[0m\u001b[1;38;5;251m \u001b[0m\u001b[2m                        \u001b[0m\n"
      ]
     },
     "metadata": {},
     "output_type": "display_data"
    },
    {
     "name": "stdout",
     "output_type": "stream",
     "text": [
      "Best fit values:\n",
      "\n"
     ]
    },
    {
     "data": {
      "text/html": [
       "<div>\n",
       "<style scoped>\n",
       "    .dataframe tbody tr th:only-of-type {\n",
       "        vertical-align: middle;\n",
       "    }\n",
       "\n",
       "    .dataframe tbody tr th {\n",
       "        vertical-align: top;\n",
       "    }\n",
       "\n",
       "    .dataframe thead th {\n",
       "        text-align: right;\n",
       "    }\n",
       "</style>\n",
       "<table border=\"1\" class=\"dataframe\">\n",
       "  <thead>\n",
       "    <tr style=\"text-align: right;\">\n",
       "      <th></th>\n",
       "      <th>result</th>\n",
       "      <th>unit</th>\n",
       "    </tr>\n",
       "    <tr>\n",
       "      <th>parameter</th>\n",
       "      <th></th>\n",
       "      <th></th>\n",
       "    </tr>\n",
       "  </thead>\n",
       "  <tbody>\n",
       "    <tr>\n",
       "      <th>joint_fit_eac.spectrum.main.Band.K</th>\n",
       "      <td>(2.63 +/- 0.17) x 10^-2</td>\n",
       "      <td>1 / (cm2 keV s)</td>\n",
       "    </tr>\n",
       "    <tr>\n",
       "      <th>joint_fit_eac.spectrum.main.Band.alpha</th>\n",
       "      <td>(-4.2 +/- 0.5) x 10^-1</td>\n",
       "      <td></td>\n",
       "    </tr>\n",
       "    <tr>\n",
       "      <th>joint_fit_eac.spectrum.main.Band.xp</th>\n",
       "      <td>(3.16 +/- 0.21) x 10^2</td>\n",
       "      <td>keV</td>\n",
       "    </tr>\n",
       "    <tr>\n",
       "      <th>joint_fit_eac.spectrum.main.Band.beta</th>\n",
       "      <td>-3.0 +/- 0.8</td>\n",
       "      <td></td>\n",
       "    </tr>\n",
       "  </tbody>\n",
       "</table>\n",
       "</div>"
      ],
      "text/plain": [
       "                                                         result  \\\n",
       "parameter                                                         \n",
       "joint_fit_eac.spectrum.main.Band.K      (2.63 +/- 0.17) x 10^-2   \n",
       "joint_fit_eac.spectrum.main.Band.alpha   (-4.2 +/- 0.5) x 10^-1   \n",
       "joint_fit_eac.spectrum.main.Band.xp      (3.16 +/- 0.21) x 10^2   \n",
       "joint_fit_eac.spectrum.main.Band.beta              -3.0 +/- 0.8   \n",
       "\n",
       "                                                   unit  \n",
       "parameter                                                \n",
       "joint_fit_eac.spectrum.main.Band.K      1 / (cm2 keV s)  \n",
       "joint_fit_eac.spectrum.main.Band.alpha                   \n",
       "joint_fit_eac.spectrum.main.Band.xp                 keV  \n",
       "joint_fit_eac.spectrum.main.Band.beta                    "
      ]
     },
     "metadata": {},
     "output_type": "display_data"
    },
    {
     "name": "stdout",
     "output_type": "stream",
     "text": [
      "\n",
      "Correlation matrix:\n",
      "\n"
     ]
    },
    {
     "data": {
      "text/html": [
       "<div><table id=\"table135622433014224\">\n",
       "<tr><td>1.00</td><td>0.89</td><td>-0.95</td><td>0.39</td></tr>\n",
       "<tr><td>0.89</td><td>1.00</td><td>-0.81</td><td>0.30</td></tr>\n",
       "<tr><td>-0.95</td><td>-0.81</td><td>1.00</td><td>-0.54</td></tr>\n",
       "<tr><td>0.39</td><td>0.30</td><td>-0.54</td><td>1.00</td></tr>\n",
       "</table></div>"
      ],
      "text/plain": [
       " 1.00  0.89 -0.95  0.39\n",
       " 0.89  1.00 -0.81  0.30\n",
       "-0.95 -0.81  1.00 -0.54\n",
       " 0.39  0.30 -0.54  1.00"
      ]
     },
     "metadata": {},
     "output_type": "display_data"
    },
    {
     "name": "stdout",
     "output_type": "stream",
     "text": [
      "\n",
      "Values of -log(likelihood) at the minimum:\n",
      "\n"
     ]
    },
    {
     "data": {
      "text/html": [
       "<div>\n",
       "<style scoped>\n",
       "    .dataframe tbody tr th:only-of-type {\n",
       "        vertical-align: middle;\n",
       "    }\n",
       "\n",
       "    .dataframe tbody tr th {\n",
       "        vertical-align: top;\n",
       "    }\n",
       "\n",
       "    .dataframe thead th {\n",
       "        text-align: right;\n",
       "    }\n",
       "</style>\n",
       "<table border=\"1\" class=\"dataframe\">\n",
       "  <thead>\n",
       "    <tr style=\"text-align: right;\">\n",
       "      <th></th>\n",
       "      <th>-log(likelihood)</th>\n",
       "    </tr>\n",
       "  </thead>\n",
       "  <tbody>\n",
       "    <tr>\n",
       "      <th>n9</th>\n",
       "      <td>638.414996</td>\n",
       "    </tr>\n",
       "    <tr>\n",
       "      <th>na</th>\n",
       "      <td>613.040275</td>\n",
       "    </tr>\n",
       "    <tr>\n",
       "      <th>nb</th>\n",
       "      <td>648.414855</td>\n",
       "    </tr>\n",
       "    <tr>\n",
       "      <th>total</th>\n",
       "      <td>1899.870127</td>\n",
       "    </tr>\n",
       "  </tbody>\n",
       "</table>\n",
       "</div>"
      ],
      "text/plain": [
       "       -log(likelihood)\n",
       "n9           638.414996\n",
       "na           613.040275\n",
       "nb           648.414855\n",
       "total       1899.870127"
      ]
     },
     "metadata": {},
     "output_type": "display_data"
    },
    {
     "name": "stdout",
     "output_type": "stream",
     "text": [
      "\n",
      "Values of statistical measures:\n",
      "\n"
     ]
    },
    {
     "data": {
      "text/html": [
       "<div>\n",
       "<style scoped>\n",
       "    .dataframe tbody tr th:only-of-type {\n",
       "        vertical-align: middle;\n",
       "    }\n",
       "\n",
       "    .dataframe tbody tr th {\n",
       "        vertical-align: top;\n",
       "    }\n",
       "\n",
       "    .dataframe thead th {\n",
       "        text-align: right;\n",
       "    }\n",
       "</style>\n",
       "<table border=\"1\" class=\"dataframe\">\n",
       "  <thead>\n",
       "    <tr style=\"text-align: right;\">\n",
       "      <th></th>\n",
       "      <th>statistical measures</th>\n",
       "    </tr>\n",
       "  </thead>\n",
       "  <tbody>\n",
       "    <tr>\n",
       "      <th>AIC</th>\n",
       "      <td>3807.856532</td>\n",
       "    </tr>\n",
       "    <tr>\n",
       "      <th>BIC</th>\n",
       "      <td>3823.160541</td>\n",
       "    </tr>\n",
       "  </tbody>\n",
       "</table>\n",
       "</div>"
      ],
      "text/plain": [
       "     statistical measures\n",
       "AIC           3807.856532\n",
       "BIC           3823.160541"
      ]
     },
     "metadata": {},
     "output_type": "display_data"
    },
    {
     "data": {
      "text/plain": [
       "(                                             value  negative_error  \\\n",
       " joint_fit_eac.spectrum.main.Band.K        0.026330       -0.001702   \n",
       " joint_fit_eac.spectrum.main.Band.alpha   -0.415083       -0.053664   \n",
       " joint_fit_eac.spectrum.main.Band.xp     316.452045      -19.545734   \n",
       " joint_fit_eac.spectrum.main.Band.beta    -2.997348       -0.799148   \n",
       " \n",
       "                                         positive_error      error  \\\n",
       " joint_fit_eac.spectrum.main.Band.K            0.001622   0.001662   \n",
       " joint_fit_eac.spectrum.main.Band.alpha        0.051331   0.052497   \n",
       " joint_fit_eac.spectrum.main.Band.xp          20.873989  20.209861   \n",
       " joint_fit_eac.spectrum.main.Band.beta         0.709114   0.754131   \n",
       " \n",
       "                                                    unit  \n",
       " joint_fit_eac.spectrum.main.Band.K      1 / (cm2 keV s)  \n",
       " joint_fit_eac.spectrum.main.Band.alpha                   \n",
       " joint_fit_eac.spectrum.main.Band.xp                 keV  \n",
       " joint_fit_eac.spectrum.main.Band.beta                    ,\n",
       "        -log(likelihood)\n",
       " n9           638.414996\n",
       " na           613.040275\n",
       " nb           648.414855\n",
       " total       1899.870127)"
      ]
     },
     "execution_count": 26,
     "metadata": {},
     "output_type": "execute_result"
    }
   ],
   "source": [
    "# Band Function\n",
    "band = Band()\n",
    "\n",
    "# # turn on the effective area correction and set it's bounds\n",
    "nai9.use_effective_area_correction(0.1, 2.0)\n",
    "naia.use_effective_area_correction(0.1, 2.0)\n",
    "naib.fix_effective_area_correction(1)\n",
    "# bgo1.use_effective_area_correction(0.1, 2.0)\n",
    "# LLE.use_effective_area_correction(0.1, 4.0)\n",
    "\n",
    "model_eac_band = Model(PointSource(\"joint_fit_eac\", 214.926, -69.361, spectral_shape=band))\n",
    "\n",
    "nai9.fix_effective_area_correction(0.901897)\n",
    "naia.fix_effective_area_correction(0.983482)\n",
    "naib.fix_effective_area_correction(1)\n",
    "# bgo1.use_effective_area_correction(0.1, 2.0)\n",
    "# LLE.use_effective_area_correction(0.1, 4.0)\n",
    "\n",
    "jl_eac_band = JointLikelihood(model_eac_band, data_list1)\n",
    "\n",
    "jl_eac_band.fit()\n"
   ]
  },
  {
   "cell_type": "code",
   "execution_count": 24,
   "id": "8c04a31d",
   "metadata": {},
   "outputs": [
    {
     "data": {
      "text/html": [
       "<pre style=\"white-space:pre;overflow-x:auto;line-height:normal;font-family:Menlo,'DejaVu Sans Mono',consolas,'Courier New',monospace\"><span style=\"color: #00ff00; text-decoration-color: #00ff00\">18:48:09 </span><span style=\"color: #00ffaf; text-decoration-color: #00ffaf\">INFO    </span> <span style=\"color: #c6c6c6; text-decoration-color: #c6c6c6; font-weight: bold\"> n9 is using effective area correction (between </span><span style=\"color: #c0c0c0; text-decoration-color: #c0c0c0; font-weight: bold\">0.1</span><span style=\"color: #c6c6c6; text-decoration-color: #c6c6c6; font-weight: bold\"> and </span><span style=\"color: #c0c0c0; text-decoration-color: #c0c0c0; font-weight: bold\">2.0</span><span style=\"color: #c6c6c6; text-decoration-color: #c6c6c6; font-weight: bold\">)                 </span><a href=\"file:///opt/Miniconda3/envs/threeML/lib/python3.7/site-packages/threeML/plugins/SpectrumLike.py\" target=\"_blank\"><span style=\"color: #7f7f7f; text-decoration-color: #7f7f7f\">SpectrumLike.py</span></a><span style=\"color: #7f7f7f; text-decoration-color: #7f7f7f\">:</span><a href=\"file:///opt/Miniconda3/envs/threeML/lib/python3.7/site-packages/threeML/plugins/SpectrumLike.py#2232\" target=\"_blank\"><span style=\"color: #7f7f7f; text-decoration-color: #7f7f7f\">2232</span></a>\n",
       "</pre>\n"
      ],
      "text/plain": [
       "\u001b[38;5;46m18:48:09\u001b[0m\u001b[38;5;46m \u001b[0m\u001b[38;5;49mINFO    \u001b[0m \u001b[1;38;5;251m n9 is using effective area correction \u001b[0m\u001b[1;38;5;251m(\u001b[0m\u001b[1;38;5;251mbetween \u001b[0m\u001b[1;37m0.1\u001b[0m\u001b[1;38;5;251m and \u001b[0m\u001b[1;37m2.0\u001b[0m\u001b[1;38;5;251m)\u001b[0m\u001b[1;38;5;251m                \u001b[0m\u001b[1;38;5;251m \u001b[0m\u001b]8;id=227649;file:///opt/Miniconda3/envs/threeML/lib/python3.7/site-packages/threeML/plugins/SpectrumLike.py\u001b\\\u001b[2mSpectrumLike.py\u001b[0m\u001b]8;;\u001b\\\u001b[2m:\u001b[0m\u001b]8;id=64054;file:///opt/Miniconda3/envs/threeML/lib/python3.7/site-packages/threeML/plugins/SpectrumLike.py#2232\u001b\\\u001b[2m2232\u001b[0m\u001b]8;;\u001b\\\n"
      ]
     },
     "metadata": {},
     "output_type": "display_data"
    },
    {
     "data": {
      "text/html": [
       "<pre style=\"white-space:pre;overflow-x:auto;line-height:normal;font-family:Menlo,'DejaVu Sans Mono',consolas,'Courier New',monospace\"><span style=\"color: #00ff00; text-decoration-color: #00ff00\">         </span><span style=\"color: #00ffaf; text-decoration-color: #00ffaf\">INFO    </span> <span style=\"color: #c6c6c6; text-decoration-color: #c6c6c6; font-weight: bold\"> na is using effective area correction (between </span><span style=\"color: #c0c0c0; text-decoration-color: #c0c0c0; font-weight: bold\">0.1</span><span style=\"color: #c6c6c6; text-decoration-color: #c6c6c6; font-weight: bold\"> and </span><span style=\"color: #c0c0c0; text-decoration-color: #c0c0c0; font-weight: bold\">2.0</span><span style=\"color: #c6c6c6; text-decoration-color: #c6c6c6; font-weight: bold\">)                 </span><a href=\"file:///opt/Miniconda3/envs/threeML/lib/python3.7/site-packages/threeML/plugins/SpectrumLike.py\" target=\"_blank\"><span style=\"color: #7f7f7f; text-decoration-color: #7f7f7f\">SpectrumLike.py</span></a><span style=\"color: #7f7f7f; text-decoration-color: #7f7f7f\">:</span><a href=\"file:///opt/Miniconda3/envs/threeML/lib/python3.7/site-packages/threeML/plugins/SpectrumLike.py#2232\" target=\"_blank\"><span style=\"color: #7f7f7f; text-decoration-color: #7f7f7f\">2232</span></a>\n",
       "</pre>\n"
      ],
      "text/plain": [
       "\u001b[38;5;46m        \u001b[0m\u001b[38;5;46m \u001b[0m\u001b[38;5;49mINFO    \u001b[0m \u001b[1;38;5;251m na is using effective area correction \u001b[0m\u001b[1;38;5;251m(\u001b[0m\u001b[1;38;5;251mbetween \u001b[0m\u001b[1;37m0.1\u001b[0m\u001b[1;38;5;251m and \u001b[0m\u001b[1;37m2.0\u001b[0m\u001b[1;38;5;251m)\u001b[0m\u001b[1;38;5;251m                \u001b[0m\u001b[1;38;5;251m \u001b[0m\u001b]8;id=943952;file:///opt/Miniconda3/envs/threeML/lib/python3.7/site-packages/threeML/plugins/SpectrumLike.py\u001b\\\u001b[2mSpectrumLike.py\u001b[0m\u001b]8;;\u001b\\\u001b[2m:\u001b[0m\u001b]8;id=852854;file:///opt/Miniconda3/envs/threeML/lib/python3.7/site-packages/threeML/plugins/SpectrumLike.py#2232\u001b\\\u001b[2m2232\u001b[0m\u001b]8;;\u001b\\\n"
      ]
     },
     "metadata": {},
     "output_type": "display_data"
    },
    {
     "data": {
      "text/html": [
       "<pre style=\"white-space:pre;overflow-x:auto;line-height:normal;font-family:Menlo,'DejaVu Sans Mono',consolas,'Courier New',monospace\"><span style=\"color: #00ff00; text-decoration-color: #00ff00\">         </span><span style=\"color: #00ffaf; text-decoration-color: #00ffaf\">INFO    </span> <span style=\"color: #c6c6c6; text-decoration-color: #c6c6c6; font-weight: bold\"> set the minimizer to minuit                                             </span><a href=\"file:///opt/Miniconda3/envs/threeML/lib/python3.7/site-packages/threeML/classicMLE/joint_likelihood.py\" target=\"_blank\"><span style=\"color: #7f7f7f; text-decoration-color: #7f7f7f\">joint_likelihood.py</span></a><span style=\"color: #7f7f7f; text-decoration-color: #7f7f7f\">:</span><a href=\"file:///opt/Miniconda3/envs/threeML/lib/python3.7/site-packages/threeML/classicMLE/joint_likelihood.py#1042\" target=\"_blank\"><span style=\"color: #7f7f7f; text-decoration-color: #7f7f7f\">1042</span></a>\n",
       "</pre>\n"
      ],
      "text/plain": [
       "\u001b[38;5;46m        \u001b[0m\u001b[38;5;46m \u001b[0m\u001b[38;5;49mINFO    \u001b[0m \u001b[1;38;5;251m set the minimizer to minuit                                            \u001b[0m\u001b[1;38;5;251m \u001b[0m\u001b]8;id=805724;file:///opt/Miniconda3/envs/threeML/lib/python3.7/site-packages/threeML/classicMLE/joint_likelihood.py\u001b\\\u001b[2mjoint_likelihood.py\u001b[0m\u001b]8;;\u001b\\\u001b[2m:\u001b[0m\u001b]8;id=2184;file:///opt/Miniconda3/envs/threeML/lib/python3.7/site-packages/threeML/classicMLE/joint_likelihood.py#1042\u001b\\\u001b[2m1042\u001b[0m\u001b]8;;\u001b\\\n"
      ]
     },
     "metadata": {},
     "output_type": "display_data"
    },
    {
     "data": {
      "text/html": [
       "<pre style=\"white-space:pre;overflow-x:auto;line-height:normal;font-family:Menlo,'DejaVu Sans Mono',consolas,'Courier New',monospace\"><span style=\"color: #00ff00; text-decoration-color: #00ff00\">18:48:10 </span><span style=\"color: #af5fd7; text-decoration-color: #af5fd7\">WARNING </span> <span style=\"color: #c6c6c6; text-decoration-color: #c6c6c6; font-weight: bold\"> </span><span style=\"color: #c0c0c0; text-decoration-color: #c0c0c0; font-weight: bold\">42.42</span><span style=\"color: #c6c6c6; text-decoration-color: #c6c6c6; font-weight: bold\"> percent of samples have been thrown away because they failed the  </span><a href=\"file:///opt/Miniconda3/envs/threeML/lib/python3.7/site-packages/threeML/analysis_results.py\" target=\"_blank\"><span style=\"color: #7f7f7f; text-decoration-color: #7f7f7f\">analysis_results.py</span></a><span style=\"color: #7f7f7f; text-decoration-color: #7f7f7f\">:</span><a href=\"file:///opt/Miniconda3/envs/threeML/lib/python3.7/site-packages/threeML/analysis_results.py#1791\" target=\"_blank\"><span style=\"color: #7f7f7f; text-decoration-color: #7f7f7f\">1791</span></a>\n",
       "<span style=\"color: #00ff00; text-decoration-color: #00ff00\">         </span>         <span style=\"color: #c6c6c6; text-decoration-color: #c6c6c6; font-weight: bold\">constraints on the parameters. This results might not be suitable for    </span><span style=\"color: #7f7f7f; text-decoration-color: #7f7f7f\">                        </span>\n",
       "<span style=\"color: #00ff00; text-decoration-color: #00ff00\">         </span>         <span style=\"color: #c6c6c6; text-decoration-color: #c6c6c6; font-weight: bold\">error propagation. Enlarge the boundaries until you loose less than </span><span style=\"color: #c0c0c0; text-decoration-color: #c0c0c0; font-weight: bold\">1</span><span style=\"color: #c6c6c6; text-decoration-color: #c6c6c6; font-weight: bold\">    </span><span style=\"color: #7f7f7f; text-decoration-color: #7f7f7f\">                        </span>\n",
       "<span style=\"color: #00ff00; text-decoration-color: #00ff00\">         </span>         <span style=\"color: #c6c6c6; text-decoration-color: #c6c6c6; font-weight: bold\">percent of the samples.                                                  </span><span style=\"color: #7f7f7f; text-decoration-color: #7f7f7f\">                        </span>\n",
       "</pre>\n"
      ],
      "text/plain": [
       "\u001b[38;5;46m18:48:10\u001b[0m\u001b[38;5;46m \u001b[0m\u001b[38;5;134mWARNING \u001b[0m \u001b[1;38;5;251m \u001b[0m\u001b[1;37m42.42\u001b[0m\u001b[1;38;5;251m percent of samples have been thrown away because they failed the \u001b[0m\u001b[1;38;5;251m \u001b[0m\u001b]8;id=985789;file:///opt/Miniconda3/envs/threeML/lib/python3.7/site-packages/threeML/analysis_results.py\u001b\\\u001b[2manalysis_results.py\u001b[0m\u001b]8;;\u001b\\\u001b[2m:\u001b[0m\u001b]8;id=405630;file:///opt/Miniconda3/envs/threeML/lib/python3.7/site-packages/threeML/analysis_results.py#1791\u001b\\\u001b[2m1791\u001b[0m\u001b]8;;\u001b\\\n",
       "\u001b[38;5;46m         \u001b[0m         \u001b[1;38;5;251mconstraints on the parameters. This results might not be suitable for   \u001b[0m\u001b[1;38;5;251m \u001b[0m\u001b[2m                        \u001b[0m\n",
       "\u001b[38;5;46m         \u001b[0m         \u001b[1;38;5;251merror propagation. Enlarge the boundaries until you loose less than \u001b[0m\u001b[1;37m1\u001b[0m\u001b[1;38;5;251m   \u001b[0m\u001b[1;38;5;251m \u001b[0m\u001b[2m                        \u001b[0m\n",
       "\u001b[38;5;46m         \u001b[0m         \u001b[1;38;5;251mpercent of the samples.                                                 \u001b[0m\u001b[1;38;5;251m \u001b[0m\u001b[2m                        \u001b[0m\n"
      ]
     },
     "metadata": {},
     "output_type": "display_data"
    },
    {
     "name": "stdout",
     "output_type": "stream",
     "text": [
      "Best fit values:\n",
      "\n"
     ]
    },
    {
     "data": {
      "text/html": [
       "<div>\n",
       "<style scoped>\n",
       "    .dataframe tbody tr th:only-of-type {\n",
       "        vertical-align: middle;\n",
       "    }\n",
       "\n",
       "    .dataframe tbody tr th {\n",
       "        vertical-align: top;\n",
       "    }\n",
       "\n",
       "    .dataframe thead th {\n",
       "        text-align: right;\n",
       "    }\n",
       "</style>\n",
       "<table border=\"1\" class=\"dataframe\">\n",
       "  <thead>\n",
       "    <tr style=\"text-align: right;\">\n",
       "      <th></th>\n",
       "      <th>result</th>\n",
       "      <th>unit</th>\n",
       "    </tr>\n",
       "    <tr>\n",
       "      <th>parameter</th>\n",
       "      <th></th>\n",
       "      <th></th>\n",
       "    </tr>\n",
       "  </thead>\n",
       "  <tbody>\n",
       "    <tr>\n",
       "      <th>joint_fit_eac.spectrum.main.composite.K_1</th>\n",
       "      <td>(3.1 +/- 0.6) x 10^-2</td>\n",
       "      <td>1 / (cm2 keV s)</td>\n",
       "    </tr>\n",
       "    <tr>\n",
       "      <th>joint_fit_eac.spectrum.main.composite.alpha_1</th>\n",
       "      <td>(-2.0 +/- 2.4) x 10^-1</td>\n",
       "      <td></td>\n",
       "    </tr>\n",
       "    <tr>\n",
       "      <th>joint_fit_eac.spectrum.main.composite.xp_1</th>\n",
       "      <td>(2.7 +/- 0.4) x 10^2</td>\n",
       "      <td>keV</td>\n",
       "    </tr>\n",
       "    <tr>\n",
       "      <th>joint_fit_eac.spectrum.main.composite.beta_1</th>\n",
       "      <td>-2.4 +/- 0.4</td>\n",
       "      <td></td>\n",
       "    </tr>\n",
       "    <tr>\n",
       "      <th>joint_fit_eac.spectrum.main.composite.K_2</th>\n",
       "      <td>(1.0 +/- 2.2) x 10^-3</td>\n",
       "      <td>1 / (cm2 keV3 s)</td>\n",
       "    </tr>\n",
       "    <tr>\n",
       "      <th>joint_fit_eac.spectrum.main.composite.kT_2</th>\n",
       "      <td>6 +/- 4</td>\n",
       "      <td>keV</td>\n",
       "    </tr>\n",
       "    <tr>\n",
       "      <th>cons_n9</th>\n",
       "      <td>(9.02 +/- 0.34) x 10^-1</td>\n",
       "      <td></td>\n",
       "    </tr>\n",
       "    <tr>\n",
       "      <th>cons_na</th>\n",
       "      <td>(9.83 +/- 0.31) x 10^-1</td>\n",
       "      <td></td>\n",
       "    </tr>\n",
       "  </tbody>\n",
       "</table>\n",
       "</div>"
      ],
      "text/plain": [
       "                                                                result  \\\n",
       "parameter                                                                \n",
       "joint_fit_eac.spectrum.main.composite.K_1        (3.1 +/- 0.6) x 10^-2   \n",
       "joint_fit_eac.spectrum.main.composite.alpha_1   (-2.0 +/- 2.4) x 10^-1   \n",
       "joint_fit_eac.spectrum.main.composite.xp_1        (2.7 +/- 0.4) x 10^2   \n",
       "joint_fit_eac.spectrum.main.composite.beta_1              -2.4 +/- 0.4   \n",
       "joint_fit_eac.spectrum.main.composite.K_2        (1.0 +/- 2.2) x 10^-3   \n",
       "joint_fit_eac.spectrum.main.composite.kT_2                     6 +/- 4   \n",
       "cons_n9                                        (9.02 +/- 0.34) x 10^-1   \n",
       "cons_na                                        (9.83 +/- 0.31) x 10^-1   \n",
       "\n",
       "                                                           unit  \n",
       "parameter                                                        \n",
       "joint_fit_eac.spectrum.main.composite.K_1       1 / (cm2 keV s)  \n",
       "joint_fit_eac.spectrum.main.composite.alpha_1                    \n",
       "joint_fit_eac.spectrum.main.composite.xp_1                  keV  \n",
       "joint_fit_eac.spectrum.main.composite.beta_1                     \n",
       "joint_fit_eac.spectrum.main.composite.K_2      1 / (cm2 keV3 s)  \n",
       "joint_fit_eac.spectrum.main.composite.kT_2                  keV  \n",
       "cons_n9                                                          \n",
       "cons_na                                                          "
      ]
     },
     "metadata": {},
     "output_type": "display_data"
    },
    {
     "name": "stdout",
     "output_type": "stream",
     "text": [
      "\n",
      "Correlation matrix:\n",
      "\n"
     ]
    },
    {
     "data": {
      "text/html": [
       "<div><table id=\"table135622433312080\">\n",
       "<tr><td>1.00</td><td>0.96</td><td>-0.98</td><td>0.66</td><td>-0.39</td><td>0.60</td><td>-0.09</td><td>-0.09</td></tr>\n",
       "<tr><td>0.96</td><td>1.00</td><td>-0.91</td><td>0.57</td><td>-0.53</td><td>0.74</td><td>-0.05</td><td>-0.03</td></tr>\n",
       "<tr><td>-0.98</td><td>-0.91</td><td>1.00</td><td>-0.75</td><td>0.33</td><td>-0.54</td><td>0.02</td><td>0.01</td></tr>\n",
       "<tr><td>0.66</td><td>0.57</td><td>-0.75</td><td>1.00</td><td>-0.15</td><td>0.28</td><td>-0.01</td><td>-0.02</td></tr>\n",
       "<tr><td>-0.39</td><td>-0.53</td><td>0.33</td><td>-0.15</td><td>1.00</td><td>-0.96</td><td>0.06</td><td>0.03</td></tr>\n",
       "<tr><td>0.60</td><td>0.74</td><td>-0.54</td><td>0.28</td><td>-0.96</td><td>1.00</td><td>-0.07</td><td>-0.05</td></tr>\n",
       "<tr><td>-0.09</td><td>-0.05</td><td>0.02</td><td>-0.01</td><td>0.06</td><td>-0.07</td><td>1.00</td><td>0.34</td></tr>\n",
       "<tr><td>-0.09</td><td>-0.03</td><td>0.01</td><td>-0.02</td><td>0.03</td><td>-0.05</td><td>0.34</td><td>1.00</td></tr>\n",
       "</table></div>"
      ],
      "text/plain": [
       " 1.00  0.96 -0.98  0.66 -0.39  0.60 -0.09 -0.09\n",
       " 0.96  1.00 -0.91  0.57 -0.53  0.74 -0.05 -0.03\n",
       "-0.98 -0.91  1.00 -0.75  0.33 -0.54  0.02  0.01\n",
       " 0.66  0.57 -0.75  1.00 -0.15  0.28 -0.01 -0.02\n",
       "-0.39 -0.53  0.33 -0.15  1.00 -0.96  0.06  0.03\n",
       " 0.60  0.74 -0.54  0.28 -0.96  1.00 -0.07 -0.05\n",
       "-0.09 -0.05  0.02 -0.01  0.06 -0.07  1.00  0.34\n",
       "-0.09 -0.03  0.01 -0.02  0.03 -0.05  0.34  1.00"
      ]
     },
     "metadata": {},
     "output_type": "display_data"
    },
    {
     "name": "stdout",
     "output_type": "stream",
     "text": [
      "\n",
      "Values of -log(likelihood) at the minimum:\n",
      "\n"
     ]
    },
    {
     "data": {
      "text/html": [
       "<div>\n",
       "<style scoped>\n",
       "    .dataframe tbody tr th:only-of-type {\n",
       "        vertical-align: middle;\n",
       "    }\n",
       "\n",
       "    .dataframe tbody tr th {\n",
       "        vertical-align: top;\n",
       "    }\n",
       "\n",
       "    .dataframe thead th {\n",
       "        text-align: right;\n",
       "    }\n",
       "</style>\n",
       "<table border=\"1\" class=\"dataframe\">\n",
       "  <thead>\n",
       "    <tr style=\"text-align: right;\">\n",
       "      <th></th>\n",
       "      <th>-log(likelihood)</th>\n",
       "    </tr>\n",
       "  </thead>\n",
       "  <tbody>\n",
       "    <tr>\n",
       "      <th>n9</th>\n",
       "      <td>638.173507</td>\n",
       "    </tr>\n",
       "    <tr>\n",
       "      <th>na</th>\n",
       "      <td>613.044252</td>\n",
       "    </tr>\n",
       "    <tr>\n",
       "      <th>nb</th>\n",
       "      <td>647.692496</td>\n",
       "    </tr>\n",
       "    <tr>\n",
       "      <th>total</th>\n",
       "      <td>1898.910256</td>\n",
       "    </tr>\n",
       "  </tbody>\n",
       "</table>\n",
       "</div>"
      ],
      "text/plain": [
       "       -log(likelihood)\n",
       "n9           638.173507\n",
       "na           613.044252\n",
       "nb           647.692496\n",
       "total       1898.910256"
      ]
     },
     "metadata": {},
     "output_type": "display_data"
    },
    {
     "name": "stdout",
     "output_type": "stream",
     "text": [
      "\n",
      "Values of statistical measures:\n",
      "\n"
     ]
    },
    {
     "data": {
      "text/html": [
       "<div>\n",
       "<style scoped>\n",
       "    .dataframe tbody tr th:only-of-type {\n",
       "        vertical-align: middle;\n",
       "    }\n",
       "\n",
       "    .dataframe tbody tr th {\n",
       "        vertical-align: top;\n",
       "    }\n",
       "\n",
       "    .dataframe thead th {\n",
       "        text-align: right;\n",
       "    }\n",
       "</style>\n",
       "<table border=\"1\" class=\"dataframe\">\n",
       "  <thead>\n",
       "    <tr style=\"text-align: right;\">\n",
       "      <th></th>\n",
       "      <th>statistical measures</th>\n",
       "    </tr>\n",
       "  </thead>\n",
       "  <tbody>\n",
       "    <tr>\n",
       "      <th>AIC</th>\n",
       "      <td>3814.244041</td>\n",
       "    </tr>\n",
       "    <tr>\n",
       "      <th>BIC</th>\n",
       "      <td>3844.661087</td>\n",
       "    </tr>\n",
       "  </tbody>\n",
       "</table>\n",
       "</div>"
      ],
      "text/plain": [
       "     statistical measures\n",
       "AIC           3814.244041\n",
       "BIC           3844.661087"
      ]
     },
     "metadata": {},
     "output_type": "display_data"
    },
    {
     "data": {
      "text/plain": [
       "(                                                    value  negative_error  \\\n",
       " joint_fit_eac.spectrum.main.composite.K_1        0.031193       -0.005331   \n",
       " joint_fit_eac.spectrum.main.composite.alpha_1   -0.199528       -0.218409   \n",
       " joint_fit_eac.spectrum.main.composite.xp_1     274.256551      -29.797508   \n",
       " joint_fit_eac.spectrum.main.composite.beta_1    -2.418077       -0.360143   \n",
       " joint_fit_eac.spectrum.main.composite.K_2        0.001036       -0.000533   \n",
       " joint_fit_eac.spectrum.main.composite.kT_2       5.503997       -3.672178   \n",
       " cons_n9                                          0.902441       -0.032727   \n",
       " cons_na                                          0.983323       -0.030795   \n",
       " \n",
       "                                                positive_error      error  \\\n",
       " joint_fit_eac.spectrum.main.composite.K_1            0.004609   0.004970   \n",
       " joint_fit_eac.spectrum.main.composite.alpha_1        0.175034   0.196721   \n",
       " joint_fit_eac.spectrum.main.composite.xp_1          33.600604  31.699056   \n",
       " joint_fit_eac.spectrum.main.composite.beta_1         0.359323   0.359733   \n",
       " joint_fit_eac.spectrum.main.composite.K_2            0.001895   0.001214   \n",
       " joint_fit_eac.spectrum.main.composite.kT_2           1.157716   2.414947   \n",
       " cons_n9                                              0.033205   0.032966   \n",
       " cons_na                                              0.030732   0.030764   \n",
       " \n",
       "                                                            unit  \n",
       " joint_fit_eac.spectrum.main.composite.K_1       1 / (cm2 keV s)  \n",
       " joint_fit_eac.spectrum.main.composite.alpha_1                    \n",
       " joint_fit_eac.spectrum.main.composite.xp_1                  keV  \n",
       " joint_fit_eac.spectrum.main.composite.beta_1                     \n",
       " joint_fit_eac.spectrum.main.composite.K_2      1 / (cm2 keV3 s)  \n",
       " joint_fit_eac.spectrum.main.composite.kT_2                  keV  \n",
       " cons_n9                                                          \n",
       " cons_na                                                          ,\n",
       "        -log(likelihood)\n",
       " n9           638.173507\n",
       " na           613.044252\n",
       " nb           647.692496\n",
       " total       1898.910256)"
      ]
     },
     "execution_count": 24,
     "metadata": {},
     "output_type": "execute_result"
    }
   ],
   "source": [
    "# # BG0 as reference:\n",
    "\n",
    "# data_list = DataList(nai0, nai1, nai3, bgo0, LLE)\n",
    "babb1 = Band() + Blackbody()\n",
    "\n",
    "# # turn on the effective area correction and set it's bounds\n",
    "nai9.use_effective_area_correction(0.1, 2.0)\n",
    "naia.use_effective_area_correction(0.1, 2.0)\n",
    "naib.fix_effective_area_correction(1)\n",
    "# b1.use_effective_area_correction(0.1, 2.0)\n",
    "# LLE.use_effective_area_correction(0.1, 4.0)\n",
    "\n",
    "model_eac_babb1 = Model(PointSource(\"joint_fit_eac\", ra, dec, spectral_shape=babb1))\n",
    "\n",
    "\n",
    "\n",
    "jl_eac_babb1 = JointLikelihood(model_eac_babb1, data_list1)\n",
    "\n",
    "jl_eac_babb1.fit()\n"
   ]
  },
  {
   "cell_type": "code",
   "execution_count": null,
   "id": "a2ad462e",
   "metadata": {},
   "outputs": [],
   "source": [
    "# nai0.fix_effective_area_correction(0.914190)\n",
    "# nai1.fix_effective_area_correction(0.913638)\n",
    "# nai3.fix_effective_area_correction(1)\n",
    "# bgo0.fix_effective_area_correction(1.000000)\n",
    "# LLE.fix_effective_area_correction(2.3015010)\n",
    "\n",
    "# babb1.K_1.bounds = (2e-3, 8e-3)\n",
    "# babb1.alpha_1.bounds = (-1.4, -0.2)\n",
    "# babb1.xp_1.bounds = (200, 1000)\n",
    "# babb1.beta_1.bounds = (-3, -2)\n",
    "# babb1.K_2.bounds = (1e-6, 1e-3)\n",
    "# babb1.kT_2.bounds = (7, 42)"
   ]
  },
  {
   "cell_type": "code",
   "execution_count": null,
   "id": "7eaca753",
   "metadata": {},
   "outputs": [],
   "source": []
  },
  {
   "cell_type": "code",
   "execution_count": null,
   "id": "b2c55860",
   "metadata": {},
   "outputs": [],
   "source": []
  },
  {
   "cell_type": "code",
   "execution_count": null,
   "id": "d7a42b73",
   "metadata": {},
   "outputs": [],
   "source": []
  },
  {
   "cell_type": "code",
   "execution_count": null,
   "id": "e78f04e4",
   "metadata": {},
   "outputs": [],
   "source": []
  }
 ],
 "metadata": {
  "kernelspec": {
   "display_name": "Python 3 (ipykernel)",
   "language": "python",
   "name": "python3"
  },
  "language_info": {
   "codemirror_mode": {
    "name": "ipython",
    "version": 3
   },
   "file_extension": ".py",
   "mimetype": "text/x-python",
   "name": "python",
   "nbconvert_exporter": "python",
   "pygments_lexer": "ipython3",
   "version": "3.7.12"
  }
 },
 "nbformat": 4,
 "nbformat_minor": 5
}
